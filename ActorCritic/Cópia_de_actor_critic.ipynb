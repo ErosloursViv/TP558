{
  "cells": [
    {
      "cell_type": "markdown",
      "metadata": {
        "id": "_jQ1tEQCxwRx"
      },
      "source": [
        "##### Copyright 2020 The TensorFlow Authors."
      ]
    },
    {
      "cell_type": "code",
      "execution_count": null,
      "metadata": {
        "id": "V_sgB_5dx1f1"
      },
      "outputs": [],
      "source": [
        "#@title Licensed under the Apache License, Version 2.0 (the \"License\");\n",
        "# you may not use this file except in compliance with the License.\n",
        "# You may obtain a copy of the License at\n",
        "#\n",
        "# https://www.apache.org/licenses/LICENSE-2.0\n",
        "#\n",
        "# Unless required by applicable law or agreed to in writing, software\n",
        "# distributed under the License is distributed on an \"AS IS\" BASIS,\n",
        "# WITHOUT WARRANTIES OR CONDITIONS OF ANY KIND, either express or implied.\n",
        "# See the License for the specific language governing permissions and\n",
        "# limitations under the License."
      ]
    },
    {
      "cell_type": "markdown",
      "metadata": {
        "id": "p62G8M_viUJp"
      },
      "source": [
        "# Playing CartPole with the Actor-Critic method\n"
      ]
    },
    {
      "cell_type": "markdown",
      "metadata": {
        "id": "-mJ2i6jvZ3sK"
      },
      "source": [
        "<table class=\"tfo-notebook-buttons\" align=\"left\">\n",
        "  <td>\n",
        "    <a target=\"_blank\" href=\"https://www.tensorflow.org/tutorials/reinforcement_learning/actor_critic\">\n",
        "    <img src=\"https://www.tensorflow.org/images/tf_logo_32px.png\" />\n",
        "    View on TensorFlow.org</a>\n",
        "  </td>\n",
        "  <td>\n",
        "    <a target=\"_blank\" href=\"https://colab.research.google.com/github/tensorflow/docs/blob/master/site/en/tutorials/reinforcement_learning/actor_critic.ipynb\">\n",
        "    <img src=\"https://www.tensorflow.org/images/colab_logo_32px.png\" />\n",
        "    Run in Google Colab</a>\n",
        "  </td>\n",
        "  <td>\n",
        "    <a target=\"_blank\" href=\"https://github.com/tensorflow/docs/blob/master/site/en/tutorials/reinforcement_learning/actor_critic.ipynb\">\n",
        "    <img src=\"https://www.tensorflow.org/images/GitHub-Mark-32px.png\" />\n",
        "    View source on GitHub</a>\n",
        "  </td>\n",
        "  <td>\n",
        "    <a href=\"https://storage.googleapis.com/tensorflow_docs/docs/site/en/tutorials/reinforcement_learning/actor_critic.ipynb\"><img src=\"https://www.tensorflow.org/images/download_logo_32px.png\" />Download notebook</a>\n",
        "  </td>\n",
        "</table>"
      ]
    },
    {
      "cell_type": "markdown",
      "metadata": {
        "id": "kFgN7h_wiUJq"
      },
      "source": [
        "This tutorial demonstrates how to implement the [Actor-Critic](https://papers.nips.cc/paper/1786-actor-critic-algorithms.pdf) method using TensorFlow to train an agent on the [Open AI Gym](https://www.gymlibrary.dev/) [`CartPole-v0`](https://www.gymlibrary.dev/environments/classic_control/cart_pole/) environment.\n",
        "The reader is assumed to have some familiarity with [policy gradient methods](https://papers.nips.cc/paper/1713-policy-gradient-methods-for-reinforcement-learning-with-function-approximation.pdf) of [(deep) reinforcement learning](https://en.wikipedia.org/wiki/Deep_reinforcement_learning).\n"
      ]
    },
    {
      "cell_type": "markdown",
      "metadata": {
        "id": "_kA10ZKRR0hi"
      },
      "source": [
        "**Actor-Critic methods**\n",
        "\n",
        "Actor-Critic methods are [temporal difference (TD) learning](https://en.wikipedia.org/wiki/Temporal_difference_learning) methods that represent the policy function independent of the value function.\n",
        "\n",
        "A policy function (or policy) returns a probability distribution over actions that the agent can take based on the given state.\n",
        "A value function determines the expected return for an agent starting at a given state and acting according to a particular policy forever after.\n",
        "\n",
        "In the Actor-Critic method, the policy is referred to as the *actor* that proposes a set of possible actions given a state, and the estimated value function is referred to as the *critic*, which evaluates actions taken by the *actor* based on the given policy.\n",
        "\n",
        "In this tutorial, both the *Actor* and *Critic* will be represented using one neural network with two outputs.\n"
      ]
    },
    {
      "cell_type": "markdown",
      "metadata": {
        "id": "rBfiafKSRs2k"
      },
      "source": [
        "**`CartPole-v0`**\n",
        "\n",
        "In the [`CartPole-v0` environment](https://www.gymlibrary.dev/environments/classic_control/cart_pole/), a pole is attached to a cart moving along a frictionless track.\n",
        "The pole starts upright and the goal of the agent is to prevent it from falling over by applying a force of `-1` or `+1` to the cart.\n",
        "A reward of `+1` is given for every time step the pole remains upright.\n",
        "An episode ends when: 1) the pole is more than 15 degrees from vertical; or 2) the cart moves more than 2.4 units from the center.\n",
        "\n",
        "<center>\n",
        "  <figure>\n",
        "    <image src=\"https://tensorflow.org/tutorials/reinforcement_learning/images/cartpole-v0.gif\">\n",
        "    <figcaption>\n",
        "      Trained actor-critic model in Cartpole-v0 environment\n",
        "    </figcaption>\n",
        "  </figure>\n",
        "</center>\n"
      ]
    },
    {
      "cell_type": "markdown",
      "metadata": {
        "id": "XSNVK0AeRoJd"
      },
      "source": [
        "The problem is considered \"solved\" when the average total reward for the episode reaches 195 over 100 consecutive trials."
      ]
    },
    {
      "cell_type": "markdown",
      "metadata": {
        "id": "glLwIctHiUJq"
      },
      "source": [
        "## Setup\n",
        "\n",
        "Import necessary packages and configure global settings.\n"
      ]
    },
    {
      "cell_type": "code",
      "execution_count": null,
      "metadata": {
        "id": "13l6BbxKhCKp",
        "outputId": "e815d8cd-319e-461b-bc12-03b681c8b419",
        "colab": {
          "base_uri": "https://localhost:8080/"
        }
      },
      "outputs": [
        {
          "output_type": "stream",
          "name": "stdout",
          "text": [
            "Requirement already satisfied: gym[classic_control] in /usr/local/lib/python3.10/dist-packages (0.25.2)\n",
            "Requirement already satisfied: numpy>=1.18.0 in /usr/local/lib/python3.10/dist-packages (from gym[classic_control]) (1.25.2)\n",
            "Requirement already satisfied: cloudpickle>=1.2.0 in /usr/local/lib/python3.10/dist-packages (from gym[classic_control]) (2.2.1)\n",
            "Requirement already satisfied: gym-notices>=0.0.4 in /usr/local/lib/python3.10/dist-packages (from gym[classic_control]) (0.0.8)\n",
            "Collecting pygame==2.1.0 (from gym[classic_control])\n",
            "  Downloading pygame-2.1.0-cp310-cp310-manylinux_2_17_x86_64.manylinux2014_x86_64.whl (18.3 MB)\n",
            "\u001b[2K     \u001b[90m━━━━━━━━━━━━━━━━━━━━━━━━━━━━━━━━━━━━━━━━\u001b[0m \u001b[32m18.3/18.3 MB\u001b[0m \u001b[31m33.4 MB/s\u001b[0m eta \u001b[36m0:00:00\u001b[0m\n",
            "\u001b[?25hInstalling collected packages: pygame\n",
            "  Attempting uninstall: pygame\n",
            "    Found existing installation: pygame 2.5.2\n",
            "    Uninstalling pygame-2.5.2:\n",
            "      Successfully uninstalled pygame-2.5.2\n",
            "Successfully installed pygame-2.1.0\n",
            "Collecting pyglet\n",
            "  Downloading pyglet-2.0.15-py3-none-any.whl (884 kB)\n",
            "\u001b[2K     \u001b[90m━━━━━━━━━━━━━━━━━━━━━━━━━━━━━━━━━━━━━━━━\u001b[0m \u001b[32m884.3/884.3 kB\u001b[0m \u001b[31m5.9 MB/s\u001b[0m eta \u001b[36m0:00:00\u001b[0m\n",
            "\u001b[?25hInstalling collected packages: pyglet\n",
            "Successfully installed pyglet-2.0.15\n"
          ]
        }
      ],
      "source": [
        "!pip install gym[classic_control]\n",
        "!pip install pyglet"
      ]
    },
    {
      "cell_type": "code",
      "execution_count": null,
      "metadata": {
        "id": "WBeQhPi2S4m5"
      },
      "outputs": [],
      "source": [
        "%%bash\n",
        "# Install additional packages for visualization\n",
        "sudo apt-get install -y python-opengl > /dev/null 2>&1\n",
        "pip install git+https://github.com/tensorflow/docs > /dev/null 2>&1"
      ]
    },
    {
      "cell_type": "code",
      "execution_count": null,
      "metadata": {
        "id": "tT4N3qYviUJr",
        "outputId": "315da926-b205-4079-a292-2144f102859e",
        "colab": {
          "base_uri": "https://localhost:8080/"
        }
      },
      "outputs": [
        {
          "output_type": "stream",
          "name": "stderr",
          "text": [
            "/usr/local/lib/python3.10/dist-packages/gym/core.py:317: DeprecationWarning: \u001b[33mWARN: Initializing wrapper in old step API which returns one bool instead of two. It is recommended to set `new_step_api=True` to use new step API. This will be the default behaviour in future.\u001b[0m\n",
            "  deprecation(\n",
            "/usr/local/lib/python3.10/dist-packages/gym/wrappers/step_api_compatibility.py:39: DeprecationWarning: \u001b[33mWARN: Initializing environment in old step API which returns one bool instead of two. It is recommended to set `new_step_api=True` to use new step API. This will be the default behaviour in future.\u001b[0m\n",
            "  deprecation(\n"
          ]
        }
      ],
      "source": [
        "import collections\n",
        "import gym\n",
        "import numpy as np\n",
        "import statistics\n",
        "import tensorflow as tf\n",
        "import tqdm\n",
        "\n",
        "from matplotlib import pyplot as plt\n",
        "from tensorflow.keras import layers\n",
        "from typing import Any, List, Sequence, Tuple\n",
        "\n",
        "\n",
        "# Create the environment\n",
        "env = gym.make(\"CartPole-v1\")\n",
        "\n",
        "# Set seed for experiment reproducibility\n",
        "seed = 42\n",
        "tf.random.set_seed(seed)\n",
        "np.random.seed(seed)\n",
        "\n",
        "# Small epsilon value for stabilizing division operations\n",
        "eps = np.finfo(np.float32).eps.item()"
      ]
    },
    {
      "cell_type": "markdown",
      "metadata": {
        "id": "AOUCe2D0iUJu"
      },
      "source": [
        "## The model\n",
        "\n",
        "The *Actor* and *Critic* will be modeled using one neural network that generates the action probabilities and Critic value respectively. This tutorial uses model subclassing to define the model.\n",
        "\n",
        "During the forward pass, the model will take in the state as the input and will output both action probabilities and critic value $V$, which models the state-dependent [value function](https://spinningup.openai.com/en/latest/spinningup/rl_intro.html#value-functions). The goal is to train a model that chooses actions based on a policy $\\pi$ that maximizes expected [return](https://spinningup.openai.com/en/latest/spinningup/rl_intro.html#reward-and-return).\n",
        "\n",
        "For `CartPole-v0`, there are four values representing the state: cart position, cart-velocity, pole angle and pole velocity respectively. The agent can take two actions to push the cart left (`0`) and right (`1`), respectively.\n",
        "\n",
        "Refer to [Gym's Cart Pole documentation page](https://www.gymlibrary.dev/environments/classic_control/cart_pole/) and [_Neuronlike adaptive elements that can solve difficult learning control problems_](http://www.derongliu.org/adp/adp-cdrom/Barto1983.pdf) by Barto, Sutton and Anderson (1983) for more information.\n"
      ]
    },
    {
      "cell_type": "code",
      "execution_count": null,
      "metadata": {
        "id": "aXKbbMC-kmuv",
        "outputId": "178bdc5a-ab79-417d-fb8a-3c0cf21798e6",
        "colab": {
          "base_uri": "https://localhost:8080/"
        }
      },
      "outputs": [
        {
          "output_type": "stream",
          "name": "stderr",
          "text": [
            "/usr/local/lib/python3.10/dist-packages/ipykernel/ipkernel.py:283: DeprecationWarning: `should_run_async` will not call `transform_cell` automatically in the future. Please pass the result to `transformed_cell` argument and any exception that happen during thetransform in `preprocessing_exc_tuple` in IPython 7.17 and above.\n",
            "  and should_run_async(code)\n"
          ]
        }
      ],
      "source": [
        "class ActorCritic(tf.keras.Model):\n",
        "  \"\"\"Combined actor-critic network.\"\"\"\n",
        "\n",
        "  def __init__(\n",
        "      self,\n",
        "      num_actions: int,\n",
        "      num_hidden_units: int):\n",
        "    \"\"\"Initialize.\"\"\"\n",
        "    super().__init__()\n",
        "\n",
        "    self.common = layers.Dense(num_hidden_units, activation=\"relu\")\n",
        "    self.actor = layers.Dense(num_actions)\n",
        "    self.critic = layers.Dense(1)\n",
        "\n",
        "  def call(self, inputs: tf.Tensor) -> Tuple[tf.Tensor, tf.Tensor]:\n",
        "    x = self.common(inputs)\n",
        "    return self.actor(x), self.critic(x)"
      ]
    },
    {
      "cell_type": "code",
      "execution_count": null,
      "metadata": {
        "id": "nWyxJgjLn68c"
      },
      "outputs": [],
      "source": [
        "num_actions = env.action_space.n  # 2\n",
        "num_hidden_units = 128\n",
        "\n",
        "model = ActorCritic(num_actions, num_hidden_units)"
      ]
    },
    {
      "cell_type": "markdown",
      "metadata": {
        "id": "hk92njFziUJw"
      },
      "source": [
        "## Train the agent\n",
        "\n",
        "To train the agent, you will follow these steps:\n",
        "\n",
        "1. Run the agent on the environment to collect training data per episode.\n",
        "2. Compute expected return at each time step.\n",
        "3. Compute the loss for the combined Actor-Critic model.\n",
        "4. Compute gradients and update network parameters.\n",
        "5. Repeat 1-4 until either success criterion or max episodes has been reached.\n"
      ]
    },
    {
      "cell_type": "markdown",
      "metadata": {
        "id": "R2nde2XDs8Gh"
      },
      "source": [
        "### 1. Collect training data\n",
        "\n",
        "As in supervised learning, in order to train the actor-critic model, you need\n",
        "to have training data. However, in order to collect such data, the model would\n",
        "need to be \"run\" in the environment.\n",
        "\n",
        "Training data is collected for each episode. Then at each time step, the model's forward pass will be run on the environment's state in order to generate action probabilities and the critic value based on the current policy parameterized by the model's weights.\n",
        "\n",
        "The next action will be sampled from the action probabilities generated by the model, which would then be applied to the environment, causing the next state and reward to be generated.\n",
        "\n",
        "This process is implemented in the `run_episode` function, which uses TensorFlow operations so that it can later be compiled into a TensorFlow graph for faster training. Note that `tf.TensorArray`s were used to support Tensor iteration on variable length arrays."
      ]
    },
    {
      "cell_type": "code",
      "execution_count": null,
      "metadata": {
        "id": "5URrbGlDSAGx"
      },
      "outputs": [],
      "source": [
        "# Wrap Gym's `env.step` call as an operation in a TensorFlow function.\n",
        "# This would allow it to be included in a callable TensorFlow graph.\n",
        "\n",
        "@tf.numpy_function(Tout=[tf.float32, tf.int32, tf.int32])\n",
        "def env_step(action: np.ndarray) -> Tuple[np.ndarray, np.ndarray, np.ndarray]:\n",
        "  \"\"\"Returns state, reward and done flag given an action.\"\"\"\n",
        "\n",
        "  # state, reward, done, truncated, info = env.step(action)\n",
        "  state, reward, done, truncated = env.step(action)\n",
        "  return (state.astype(np.float32),\n",
        "          np.array(reward, np.int32),\n",
        "          np.array(done, np.int32))\n"
      ]
    },
    {
      "cell_type": "code",
      "execution_count": null,
      "metadata": {
        "id": "a4qVRV063Cl9"
      },
      "outputs": [],
      "source": [
        "def run_episode(\n",
        "    initial_state: tf.Tensor,\n",
        "    model: tf.keras.Model,\n",
        "    max_steps: int) -> Tuple[tf.Tensor, tf.Tensor, tf.Tensor]:\n",
        "  \"\"\"Runs a single episode to collect training data.\"\"\"\n",
        "\n",
        "  action_probs = tf.TensorArray(dtype=tf.float32, size=0, dynamic_size=True)\n",
        "  values = tf.TensorArray(dtype=tf.float32, size=0, dynamic_size=True)\n",
        "  rewards = tf.TensorArray(dtype=tf.int32, size=0, dynamic_size=True)\n",
        "\n",
        "  initial_state_shape = initial_state.shape\n",
        "  state = initial_state\n",
        "\n",
        "  for t in tf.range(max_steps):\n",
        "    # Convert state into a batched tensor (batch size = 1)\n",
        "    state = tf.expand_dims(state, 0)\n",
        "\n",
        "    # Run the model and to get action probabilities and critic value\n",
        "    action_logits_t, value = model(state)\n",
        "\n",
        "    # Sample next action from the action probability distribution\n",
        "    action = tf.random.categorical(action_logits_t, 1)[0, 0]\n",
        "    action_probs_t = tf.nn.softmax(action_logits_t)\n",
        "\n",
        "    # Store critic values\n",
        "    values = values.write(t, tf.squeeze(value))\n",
        "\n",
        "    # Store log probability of the action chosen\n",
        "    action_probs = action_probs.write(t, action_probs_t[0, action])\n",
        "\n",
        "    # Apply action to the environment to get next state and reward\n",
        "    state, reward, done = env_step(action)\n",
        "    state.set_shape(initial_state_shape)\n",
        "\n",
        "    # Store reward\n",
        "    rewards = rewards.write(t, reward)\n",
        "\n",
        "    if tf.cast(done, tf.bool):\n",
        "      break\n",
        "\n",
        "  action_probs = action_probs.stack()\n",
        "  values = values.stack()\n",
        "  rewards = rewards.stack()\n",
        "\n",
        "  return action_probs, values, rewards"
      ]
    },
    {
      "cell_type": "markdown",
      "metadata": {
        "id": "lBnIHdz22dIx"
      },
      "source": [
        "### 2. Compute the expected returns\n",
        "\n",
        "The sequence of rewards for each timestep $t$, $\\{r_{t}\\}^{T}_{t=1}$ collected during one episode is converted into a sequence of expected returns $\\{G_{t}\\}^{T}_{t=1}$ in which the sum of rewards is taken from the current timestep $t$ to $T$ and each reward is multiplied with an exponentially decaying discount factor $\\gamma$:\n",
        "\n",
        "$$G_{t} = \\sum^{T}_{t'=t} \\gamma^{t'-t}r_{t'}$$\n",
        "\n",
        "Since $\\gamma\\in(0,1)$, rewards further out from the current timestep are given less weight.\n",
        "\n",
        "Intuitively, expected return simply implies that rewards now are better than rewards later. In a mathematical sense, it is to ensure that the sum of the rewards converges.\n",
        "\n",
        "To stabilize training, the resulting sequence of returns is also standardized (i.e. to have zero mean and unit standard deviation).\n"
      ]
    },
    {
      "cell_type": "code",
      "execution_count": null,
      "metadata": {
        "id": "jpEwFyl315dl"
      },
      "outputs": [],
      "source": [
        "def get_expected_return(\n",
        "    rewards: tf.Tensor,\n",
        "    gamma: float,\n",
        "    standardize: bool = True) -> tf.Tensor:\n",
        "  \"\"\"Compute expected returns per timestep.\"\"\"\n",
        "\n",
        "  n = tf.shape(rewards)[0]\n",
        "  returns = tf.TensorArray(dtype=tf.float32, size=n)\n",
        "\n",
        "  # Start from the end of `rewards` and accumulate reward sums\n",
        "  # into the `returns` array\n",
        "  rewards = tf.cast(rewards[::-1], dtype=tf.float32)\n",
        "  discounted_sum = tf.constant(0.0)\n",
        "  discounted_sum_shape = discounted_sum.shape\n",
        "  for i in tf.range(n):\n",
        "    reward = rewards[i]\n",
        "    discounted_sum = reward + gamma * discounted_sum\n",
        "    discounted_sum.set_shape(discounted_sum_shape)\n",
        "    returns = returns.write(i, discounted_sum)\n",
        "  returns = returns.stack()[::-1]\n",
        "\n",
        "  if standardize:\n",
        "    returns = ((returns - tf.math.reduce_mean(returns)) /\n",
        "               (tf.math.reduce_std(returns) + eps))\n",
        "\n",
        "  return returns"
      ]
    },
    {
      "cell_type": "markdown",
      "metadata": {
        "id": "qhr50_Czxazw"
      },
      "source": [
        "### 3. The Actor-Critic loss\n",
        "\n",
        "Since you're using a hybrid Actor-Critic model, the chosen loss function is a combination of Actor and Critic losses for training, as shown below:\n",
        "\n",
        "$$L = L_{actor} + L_{critic}$$"
      ]
    },
    {
      "cell_type": "markdown",
      "metadata": {
        "id": "nOQIJuG1xdTH"
      },
      "source": [
        "#### The Actor loss\n",
        "\n",
        "The Actor loss is based on [policy gradients with the Critic as a state dependent baseline](https://www.youtube.com/watch?v=EKqxumCuAAY&t=62m23s) and computed with single-sample (per-episode) estimates.\n",
        "\n",
        "$$L_{actor} = -\\sum^{T}_{t=1} \\log\\pi_{\\theta}(a_{t} | s_{t})[G(s_{t}, a_{t})  - V^{\\pi}_{\\theta}(s_{t})]$$\n",
        "\n",
        "where:\n",
        "- $T$: the number of timesteps per episode, which can vary per episode\n",
        "- $s_{t}$: the state at timestep $t$\n",
        "- $a_{t}$: chosen action at timestep $t$ given state $s$\n",
        "- $\\pi_{\\theta}$: is the policy (Actor) parameterized by $\\theta$\n",
        "- $V^{\\pi}_{\\theta}$: is the value function (Critic) also parameterized by $\\theta$\n",
        "- $G = G_{t}$: the expected return for a given state, action pair at timestep $t$\n",
        "\n",
        "A negative term is added to the sum since the idea is to maximize the probabilities of actions yielding higher rewards by minimizing the combined loss.\n",
        "\n",
        "<br>"
      ]
    },
    {
      "cell_type": "markdown",
      "metadata": {
        "id": "Y304O4OAxiAv"
      },
      "source": [
        "##### The Advantage\n",
        "\n",
        "The $G - V$ term in our $L_{actor}$ formulation is called the [Advantage](https://spinningup.openai.com/en/latest/spinningup/rl_intro.html#advantage-functions), which indicates how much better an action is given a particular state over a random action selected according to the policy $\\pi$ for that state.\n",
        "\n",
        "While it's possible to exclude a baseline, this may result in high variance during training. And the nice thing about choosing the critic $V$ as a baseline is that it trained to be as close as possible to $G$, leading to a lower variance.\n",
        "\n",
        "In addition, without the Critic, the algorithm would try to increase probabilities for actions taken on a particular state based on expected return, which may not make much of a difference if the relative probabilities between actions remain the same.\n",
        "\n",
        "For instance, suppose that two actions for a given state would yield the same expected return. Without the Critic, the algorithm would try to raise the probability of these actions based on the objective $J$. With the Critic, it may turn out that there's no Advantage ($G - V = 0$), and thus no benefit gained in increasing the actions' probabilities and the algorithm would set the gradients to zero.\n",
        "\n",
        "<br>"
      ]
    },
    {
      "cell_type": "markdown",
      "metadata": {
        "id": "1hrPLrgGxlvb"
      },
      "source": [
        "#### The Critic loss\n",
        "\n",
        "Training $V$ to be as close possible to $G$ can be set up as a regression problem with the following loss function:\n",
        "\n",
        "$$L_{critic} = L_{\\delta}(G, V^{\\pi}_{\\theta})$$\n",
        "\n",
        "where $L_{\\delta}$ is the [Huber loss](https://en.wikipedia.org/wiki/Huber_loss), which is less sensitive to outliers in data than squared-error loss.\n"
      ]
    },
    {
      "cell_type": "code",
      "execution_count": null,
      "metadata": {
        "id": "9EXwbEez6n9m"
      },
      "outputs": [],
      "source": [
        "huber_loss = tf.keras.losses.Huber(reduction=tf.keras.losses.Reduction.SUM)\n",
        "\n",
        "def compute_loss(\n",
        "    action_probs: tf.Tensor,\n",
        "    values: tf.Tensor,\n",
        "    returns: tf.Tensor) -> tf.Tensor:\n",
        "  \"\"\"Computes the combined Actor-Critic loss.\"\"\"\n",
        "\n",
        "  advantage = returns - values\n",
        "\n",
        "  action_log_probs = tf.math.log(action_probs)\n",
        "  actor_loss = -tf.math.reduce_sum(action_log_probs * advantage)\n",
        "\n",
        "  critic_loss = huber_loss(values, returns)\n",
        "\n",
        "  return actor_loss + critic_loss"
      ]
    },
    {
      "cell_type": "markdown",
      "metadata": {
        "id": "HSYkQOmRfV75"
      },
      "source": [
        "### 4. Define the training step to update parameters\n",
        "\n",
        "All of the steps above are combined into a training step that is run every episode. All steps leading up to the loss function are executed with the `tf.GradientTape` context to enable automatic differentiation.\n",
        "\n",
        "This tutorial uses the Adam optimizer to apply the gradients to the model parameters.\n",
        "\n",
        "The sum of the undiscounted rewards, `episode_reward`, is also computed in this step. This value will be used later on to evaluate if the success criterion is met.\n",
        "\n",
        "The `tf.function` context is applied to the `train_step` function so that it can be compiled into a callable TensorFlow graph, which can lead to 10x speedup in training.\n"
      ]
    },
    {
      "cell_type": "code",
      "execution_count": null,
      "metadata": {
        "id": "QoccrkF3IFCg"
      },
      "outputs": [],
      "source": [
        "optimizer = tf.keras.optimizers.Adam(learning_rate=0.01)\n",
        "\n",
        "\n",
        "@tf.function\n",
        "def train_step(\n",
        "    initial_state: tf.Tensor,\n",
        "    model: tf.keras.Model,\n",
        "    optimizer: tf.keras.optimizers.Optimizer,\n",
        "    gamma: float,\n",
        "    max_steps_per_episode: int) -> tf.Tensor:\n",
        "  \"\"\"Runs a model training step.\"\"\"\n",
        "\n",
        "  with tf.GradientTape() as tape:\n",
        "\n",
        "    # Run the model for one episode to collect training data\n",
        "    action_probs, values, rewards = run_episode(\n",
        "        initial_state, model, max_steps_per_episode)\n",
        "\n",
        "    # Calculate the expected returns\n",
        "    returns = get_expected_return(rewards, gamma)\n",
        "\n",
        "    # Convert training data to appropriate TF tensor shapes\n",
        "    action_probs, values, returns = [\n",
        "        tf.expand_dims(x, 1) for x in [action_probs, values, returns]]\n",
        "\n",
        "    # Calculate the loss values to update our network\n",
        "    loss = compute_loss(action_probs, values, returns)\n",
        "\n",
        "  # Compute the gradients from the loss\n",
        "  grads = tape.gradient(loss, model.trainable_variables)\n",
        "\n",
        "  # Apply the gradients to the model's parameters\n",
        "  optimizer.apply_gradients(zip(grads, model.trainable_variables))\n",
        "\n",
        "  episode_reward = tf.math.reduce_sum(rewards)\n",
        "\n",
        "  return episode_reward"
      ]
    },
    {
      "cell_type": "markdown",
      "metadata": {
        "id": "HFvZiDoAflGK"
      },
      "source": [
        "### 5. Run the training loop\n",
        "\n",
        "Training is executed by running the training step until either the success criterion or maximum number of episodes is reached.  \n",
        "\n",
        "A running record of episode rewards is kept in a queue. Once 100 trials are reached, the oldest reward is removed at the left (tail) end of the queue and the newest one is added at the head (right). A running sum of the rewards is also maintained for computational efficiency.\n",
        "\n",
        "Depending on your runtime, training can finish in less than a minute."
      ]
    },
    {
      "cell_type": "code",
      "execution_count": null,
      "metadata": {
        "id": "kbmBxnzLiUJx",
        "outputId": "923c6f0e-9f19-4760-e7e7-10e46d99bb8c",
        "colab": {
          "base_uri": "https://localhost:8080/"
        }
      },
      "outputs": [
        {
          "output_type": "stream",
          "name": "stderr",
          "text": [
            "  0%|          | 0/10000 [00:00<?, ?it/s]/usr/local/lib/python3.10/dist-packages/gym/utils/passive_env_checker.py:241: DeprecationWarning: `np.bool8` is a deprecated alias for `np.bool_`.  (Deprecated NumPy 1.24)\n",
            "  if not isinstance(terminated, (bool, np.bool8)):\n",
            " 10%|▉         | 978/10000 [01:57<18:06,  8.30it/s, episode_reward=500, running_reward=478]"
          ]
        },
        {
          "output_type": "stream",
          "name": "stdout",
          "text": [
            "\n",
            "Solved at episode 978: average reward: 477.87!\n",
            "CPU times: user 2min 17s, sys: 4.26 s, total: 2min 21s\n",
            "Wall time: 1min 57s\n"
          ]
        },
        {
          "output_type": "stream",
          "name": "stderr",
          "text": [
            "\n"
          ]
        }
      ],
      "source": [
        "%%time\n",
        "\n",
        "min_episodes_criterion = 100\n",
        "max_episodes = 10000\n",
        "max_steps_per_episode = 500\n",
        "\n",
        "# `CartPole-v1` is considered solved if average reward is >= 475 over 500\n",
        "# consecutive trials\n",
        "reward_threshold = 475\n",
        "running_reward = 0\n",
        "\n",
        "# The discount factor for future rewards\n",
        "gamma = 0.99\n",
        "\n",
        "# Keep the last episodes reward\n",
        "episodes_reward: collections.deque = collections.deque(maxlen=min_episodes_criterion)\n",
        "\n",
        "t = tqdm.trange(max_episodes)\n",
        "for i in t:\n",
        "    # initial_state, info = env.reset()\n",
        "    initial_state = env.reset()\n",
        "    initial_state = tf.constant(initial_state, dtype=tf.float32)\n",
        "    episode_reward = int(train_step(\n",
        "        initial_state, model, optimizer, gamma, max_steps_per_episode))\n",
        "\n",
        "    episodes_reward.append(episode_reward)\n",
        "    running_reward = statistics.mean(episodes_reward)\n",
        "\n",
        "\n",
        "    t.set_postfix(\n",
        "        episode_reward=episode_reward, running_reward=running_reward)\n",
        "\n",
        "    # Show the average episode reward every 10 episodes\n",
        "    if i % 10 == 0:\n",
        "      pass # print(f'Episode {i}: average reward: {avg_reward}')\n",
        "\n",
        "    if running_reward > reward_threshold and i >= min_episodes_criterion:\n",
        "        break\n",
        "\n",
        "print(f'\\nSolved at episode {i}: average reward: {running_reward:.2f}!')"
      ]
    },
    {
      "cell_type": "markdown",
      "metadata": {
        "id": "ru8BEwS1EmAv"
      },
      "source": [
        "## Visualization\n",
        "\n",
        "After training, it would be good to visualize how the model performs in the environment. You can run the cells below to generate a GIF animation of one episode run of the model. Note that additional packages need to be installed for Gym to render the environment's images correctly in Colab."
      ]
    },
    {
      "cell_type": "code",
      "execution_count": null,
      "metadata": {
        "id": "qbIMMkfmRHyC"
      },
      "outputs": [],
      "source": [
        "# Render an episode and save as a GIF file\n",
        "\n",
        "from IPython import display as ipythondisplay\n",
        "from PIL import Image\n",
        "\n",
        "render_env = gym.make(\"CartPole-v1\", render_mode='rgb_array')\n",
        "\n",
        "def render_episode(env: gym.Env, model: tf.keras.Model, max_steps: int):\n",
        "  # state, info = env.reset()\n",
        "  state = env.reset()\n",
        "  state = tf.constant(state, dtype=tf.float32)\n",
        "  screen = env.render()\n",
        "  screen = np.asarray(screen)\n",
        "  images = [Image.fromarray(screen[0,:,:,:], mode=\"RGB\")]\n",
        "\n",
        "  for i in range(1, max_steps + 1):\n",
        "    state = tf.expand_dims(state, 0)\n",
        "    action_probs, _ = model(state)\n",
        "    action = np.argmax(np.squeeze(action_probs))\n",
        "\n",
        "    # state, reward, done, truncated, info = env.step(action)\n",
        "    state, reward, done, truncated = env.step(action)\n",
        "    state = tf.constant(state, dtype=tf.float32)\n",
        "\n",
        "    # Render screen every 10 steps\n",
        "    if i % 10 == 0:\n",
        "      screen = env.render()\n",
        "      screen = np.asarray(screen)\n",
        "      images.append(Image.fromarray(screen[0,:,:,:], mode=\"RGB\"))\n",
        "\n",
        "    if done:\n",
        "      break\n",
        "\n",
        "  return images\n",
        "\n",
        "\n",
        "# Save GIF image\n",
        "images = render_episode(render_env, model, max_steps_per_episode)\n",
        "image_file = 'cartpole-v1.gif'\n",
        "# loop=0: loop forever, duration=1: play each frame for 1ms\n",
        "images[0].save(\n",
        "    image_file, save_all=True, append_images=images[1:], loop=0, duration=1)"
      ]
    },
    {
      "cell_type": "code",
      "execution_count": null,
      "metadata": {
        "id": "TLd720SejKmf",
        "outputId": "3e05ab3a-3bc9-4b21-e3ee-d1b51194d479",
        "colab": {
          "base_uri": "https://localhost:8080/",
          "height": 421
        }
      },
      "outputs": [
        {
          "output_type": "execute_result",
          "data": {
            "text/plain": [
              "<IPython.core.display.HTML object>"
            ],
            "text/html": [
              "<img src=\"data:image/gif;base64,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\"/>"
            ]
          },
          "metadata": {},
          "execution_count": 14
        }
      ],
      "source": [
        "import tensorflow_docs.vis.embed as embed\n",
        "embed.embed_file(image_file)"
      ]
    },
    {
      "cell_type": "markdown",
      "metadata": {
        "id": "lnq9Hzo1Po6X"
      },
      "source": [
        "## Next steps\n",
        "\n",
        "This tutorial demonstrated how to implement the Actor-Critic method using Tensorflow.\n",
        "\n",
        "As a next step, you could try training a model on a different environment in Gym.\n",
        "\n",
        "For additional information regarding Actor-Critic methods and the Cartpole-v0 problem, you may refer to the following resources:\n",
        "\n",
        "- [The Actor-Critic method](https://hal.inria.fr/hal-00840470/document)\n",
        "- [The Actor-Critic lecture (CAL)](https://www.youtube.com/watch?v=EKqxumCuAAY&list=PLkFD6_40KJIwhWJpGazJ9VSj9CFMkb79A&index=7&t=0s)\n",
        "- [Cart Pole learning control problem \\[Barto, et al. 1983\\]](http://www.derongliu.org/adp/adp-cdrom/Barto1983.pdf)\n",
        "\n",
        "For more reinforcement learning examples in TensorFlow, you can check the following resources:\n",
        "- [Reinforcement learning code examples (keras.io)](https://keras.io/examples/rl/)\n",
        "- [TF-Agents reinforcement learning library](https://www.tensorflow.org/agents)\n"
      ]
    }
  ],
  "metadata": {
    "colab": {
      "provenance": [],
      "toc_visible": true
    },
    "kernelspec": {
      "display_name": "Python 3",
      "name": "python3"
    }
  },
  "nbformat": 4,
  "nbformat_minor": 0
}