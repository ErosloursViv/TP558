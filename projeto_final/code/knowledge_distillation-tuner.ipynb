{
 "cells": [
  {
   "cell_type": "code",
   "execution_count": 1,
   "metadata": {
    "scrolled": true
   },
   "outputs": [
    {
     "name": "stderr",
     "output_type": "stream",
     "text": [
      "2024-06-01 17:37:25.903572: I tensorflow/core/platform/cpu_feature_guard.cc:210] This TensorFlow binary is optimized to use available CPU instructions in performance-critical operations.\n",
      "To enable the following instructions: AVX2 FMA, in other operations, rebuild TensorFlow with the appropriate compiler flags.\n",
      "2024-06-01 17:37:27.804192: I external/local_xla/xla/stream_executor/cuda/cuda_executor.cc:984] could not open file to read NUMA node: /sys/bus/pci/devices/0000:01:00.0/numa_node\n",
      "Your kernel may have been built without NUMA support.\n",
      "2024-06-01 17:37:27.809205: I external/local_xla/xla/stream_executor/cuda/cuda_executor.cc:984] could not open file to read NUMA node: /sys/bus/pci/devices/0000:01:00.0/numa_node\n",
      "Your kernel may have been built without NUMA support.\n",
      "2024-06-01 17:37:27.809247: I external/local_xla/xla/stream_executor/cuda/cuda_executor.cc:984] could not open file to read NUMA node: /sys/bus/pci/devices/0000:01:00.0/numa_node\n",
      "Your kernel may have been built without NUMA support.\n",
      "2024-06-01 17:37:27.811277: I external/local_xla/xla/stream_executor/cuda/cuda_executor.cc:984] could not open file to read NUMA node: /sys/bus/pci/devices/0000:01:00.0/numa_node\n",
      "Your kernel may have been built without NUMA support.\n",
      "2024-06-01 17:37:27.811324: I external/local_xla/xla/stream_executor/cuda/cuda_executor.cc:984] could not open file to read NUMA node: /sys/bus/pci/devices/0000:01:00.0/numa_node\n",
      "Your kernel may have been built without NUMA support.\n",
      "2024-06-01 17:37:27.811346: I external/local_xla/xla/stream_executor/cuda/cuda_executor.cc:984] could not open file to read NUMA node: /sys/bus/pci/devices/0000:01:00.0/numa_node\n",
      "Your kernel may have been built without NUMA support.\n",
      "2024-06-01 17:37:27.934236: I external/local_xla/xla/stream_executor/cuda/cuda_executor.cc:984] could not open file to read NUMA node: /sys/bus/pci/devices/0000:01:00.0/numa_node\n",
      "Your kernel may have been built without NUMA support.\n",
      "2024-06-01 17:37:27.934311: I external/local_xla/xla/stream_executor/cuda/cuda_executor.cc:984] could not open file to read NUMA node: /sys/bus/pci/devices/0000:01:00.0/numa_node\n",
      "Your kernel may have been built without NUMA support.\n",
      "2024-06-01 17:37:27.934321: I tensorflow/core/common_runtime/gpu/gpu_device.cc:2019] Could not identify NUMA node of platform GPU id 0, defaulting to 0.  Your kernel may not have been built with NUMA support.\n",
      "2024-06-01 17:37:27.934360: I external/local_xla/xla/stream_executor/cuda/cuda_executor.cc:984] could not open file to read NUMA node: /sys/bus/pci/devices/0000:01:00.0/numa_node\n",
      "Your kernel may have been built without NUMA support.\n",
      "2024-06-01 17:37:27.934388: I tensorflow/core/common_runtime/gpu/gpu_device.cc:1928] Created device /job:localhost/replica:0/task:0/device:GPU:0 with 1767 MB memory:  -> device: 0, name: NVIDIA GeForce RTX 3050 Laptop GPU, pci bus id: 0000:01:00.0, compute capability: 8.6\n"
     ]
    }
   ],
   "source": [
    "import tensorflow as tf\n",
    "import numpy as np\n",
    "from generate_tfio_dataset import generate_datasets\n",
    "from auxiliar import get_time_stamp\n",
    "import keras\n",
    "from keras import layers, Model, Input, models\n",
    "from train_models import load_from_weights\n",
    "from build_model import ABlock, BBlock, CBlock\n",
    "from generate_datasets import evaluate_model_on_test_set\n",
    "import matplotlib.pyplot as plt\n",
    "import keras_tuner as kt"
   ]
  },
  {
   "cell_type": "code",
   "execution_count": 2,
   "metadata": {},
   "outputs": [],
   "source": [
    "batch_size = 64\n",
    "epochs = 20\n",
    "ibcnn_filepath = 'ibcnn_best.keras'\n",
    "sbcnn_filepath = 'sbcnn_best.keras'"
   ]
  },
  {
   "cell_type": "code",
   "execution_count": 3,
   "metadata": {},
   "outputs": [
    {
     "name": "stderr",
     "output_type": "stream",
     "text": [
      "2024-06-01 17:37:28.067613: I tensorflow_io/core/kernels/cpu_check.cc:128] Your CPU supports instructions that this TensorFlow IO binary was not compiled to use: SSE3 SSE4.1 SSE4.2 AVX AVX2 FMA\n",
      "2024-06-01 17:37:28.071748: W tensorflow_io/core/kernels/audio_video_mp3_kernels.cc:271] libmp3lame.so.0 or lame functions are not available\n"
     ]
    }
   ],
   "source": [
    "train_ds, val_ds = generate_datasets(batch_size=batch_size)"
   ]
  },
  {
   "cell_type": "code",
   "execution_count": 4,
   "metadata": {},
   "outputs": [],
   "source": [
    "class Distiller(Model):\n",
    "    def __init__(self, student, teacher):\n",
    "        super().__init__()\n",
    "        self.teacher = teacher\n",
    "        self.student = student\n",
    "\n",
    "    def compile(\n",
    "        self,\n",
    "        optimizer,\n",
    "        metrics,\n",
    "        student_loss_fn,\n",
    "        distillation_loss_fn,\n",
    "        alpha=0.1,\n",
    "        temperature=3,\n",
    "    ):\n",
    "        \"\"\" Configure the distiller.\n",
    "\n",
    "        Args:\n",
    "            optimizer: Keras optimizer for the student weights\n",
    "            metrics: Keras metrics for evaluation\n",
    "            student_loss_fn: Loss function of difference between student\n",
    "                predictions and ground-truth\n",
    "            distillation_loss_fn: Loss function of difference between soft\n",
    "                student predictions and soft teacher predictions\n",
    "            alpha: weight to student_loss_fn and 1-alpha to distillation_loss_fn\n",
    "            temperature: Temperature for softening probability distributions.\n",
    "                Larger temperature gives softer distributions.\n",
    "        \"\"\"\n",
    "        super().compile(optimizer=optimizer, metrics=metrics)\n",
    "        self.student_loss_fn = student_loss_fn\n",
    "        self.distillation_loss_fn = distillation_loss_fn\n",
    "        self.alpha = alpha\n",
    "        self.temperature = temperature\n",
    "\n",
    "    def train_step(self, data):\n",
    "        # Unpack data\n",
    "        x, y = data\n",
    "\n",
    "        # Forward pass of teacher\n",
    "        teacher_predictions = self.teacher(x, training=False)\n",
    "\n",
    "        with tf.GradientTape() as tape:\n",
    "            # Forward pass of student\n",
    "            student_predictions = self.student(x, training=True)\n",
    "\n",
    "            # Compute losses\n",
    "            student_loss = self.student_loss_fn(y, student_predictions)\n",
    "\n",
    "            # Compute scaled distillation loss from https://arxiv.org/abs/1503.02531\n",
    "            # The magnitudes of the gradients produced by the soft targets scale\n",
    "            # as 1/T^2, multiply them by T^2 when using both hard and soft targets.\n",
    "            distillation_loss = (\n",
    "                self.distillation_loss_fn(\n",
    "                    tf.nn.softmax(teacher_predictions / self.temperature, axis=1),\n",
    "                    tf.nn.softmax(student_predictions / self.temperature, axis=1),\n",
    "                )\n",
    "                * self.temperature**2\n",
    "            )\n",
    "\n",
    "            loss = self.alpha * student_loss + (1 - self.alpha) * distillation_loss\n",
    "\n",
    "        # Compute gradients\n",
    "        trainable_vars = self.student.trainable_variables\n",
    "        gradients = tape.gradient(loss, trainable_vars)\n",
    "\n",
    "        # Update weights\n",
    "        self.optimizer.apply_gradients(zip(gradients, trainable_vars))\n",
    "\n",
    "        # Update the metrics configured in `compile()`.\n",
    "        self.compiled_metrics.update_state(y, student_predictions)\n",
    "\n",
    "        # Return a dict of performance\n",
    "        results = {m.name: m.result() for m in self.metrics}\n",
    "        results.update(\n",
    "            {\"student_loss\": student_loss, \"distillation_loss\": distillation_loss}\n",
    "        )\n",
    "        return results\n",
    "\n",
    "    def test_step(self, data):\n",
    "        # Unpack the data\n",
    "        x, y = data\n",
    "\n",
    "        # Compute predictions\n",
    "        y_prediction = self.student(x, training=False)\n",
    "\n",
    "        # Calculate the loss\n",
    "        student_loss = self.student_loss_fn(y, y_prediction)\n",
    "\n",
    "        # Update the metrics.\n",
    "        self.compiled_metrics.update_state(y, y_prediction)\n",
    "\n",
    "        # Return a dict of performance\n",
    "        results = {m.name: m.result() for m in self.metrics}\n",
    "        results.update({\"student_loss\": student_loss})\n",
    "        return results\n"
   ]
  },
  {
   "cell_type": "code",
   "execution_count": 5,
   "metadata": {},
   "outputs": [
    {
     "name": "stderr",
     "output_type": "stream",
     "text": [
      "/usr/local/lib/python3.11/dist-packages/keras/src/saving/saving_lib.py:396: UserWarning: Skipping variable loading for optimizer 'adamw', because it has 2 variables whereas the saved optimizer has 218 variables. \n",
      "  trackable.load_own_variables(weights_store.get(inner_path))\n"
     ]
    }
   ],
   "source": [
    "# for the teacher, lets load our trained ibcnn model\n",
    "\n",
    "teacher = load_from_weights(ibcnn_filepath) # loading a pretrained model `amc.ipynb`\n",
    "# using only model weihts, but this keras file has the hole model saved\n",
    "# could just use standar load_model and avoid warnings"
   ]
  },
  {
   "cell_type": "code",
   "execution_count": 6,
   "metadata": {},
   "outputs": [],
   "source": [
    "# now, lets build a student\n",
    "\n",
    "# for test, we chose to build a sbcnn based student,\n",
    "# composed with only one a-type block, a GAP layer\n",
    "# and a dense layer for classification\n",
    "class StudentSBCNN(layers.Layer):\n",
    "    def __init__(self):\n",
    "        super().__init__()\n",
    "        self.a_block = ABlock()\n",
    "        # self.b_block = BBlock()\n",
    "        # self.c_block = CBlock()\n",
    "        # self.flatten = layers.Flatten()\n",
    "        self.gavg_pool = layers.GlobalAveragePooling2D()\n",
    "        self.dense_layer = layers.Dense(24)  # hard-coded\n",
    "\n",
    "    def __call__(self, inputs, **kwargs):\n",
    "        x = self.a_block(inputs, **kwargs)\n",
    "        # x = self.b_block(x, **kwargs)\n",
    "        # x = self.c_block(x, **kwargs)\n",
    "        x = self.gavg_pool(x)\n",
    "        x = self.dense_layer(x)\n",
    "        return x\n",
    "    \n",
    "def build_student_model():\n",
    "    input_signal = Input((2, 1024, 1))\n",
    "    output_logit = StudentSBCNN()(input_signal)\n",
    "    model = Model(input_signal, output_logit, name = \"student\")\n",
    "    return model\n",
    "\n",
    "# student = build_student_model()"
   ]
  },
  {
   "cell_type": "code",
   "execution_count": 7,
   "metadata": {
    "scrolled": true
   },
   "outputs": [],
   "source": [
    "# checkout the student's size\n",
    "# it is much smoller then the standard sbcnn model\n",
    "# student.summary()"
   ]
  },
  {
   "cell_type": "code",
   "execution_count": 8,
   "metadata": {},
   "outputs": [],
   "source": [
    "# clone student for later comparison\n",
    "# student_scratch = models.clone_model(student)\n",
    "# student_scratch.name = 'student_scratch'"
   ]
  },
  {
   "cell_type": "code",
   "execution_count": 8,
   "metadata": {},
   "outputs": [],
   "source": [
    "def build_model(hp):\n",
    "    alpha = hp.Float(\n",
    "    \"alpha_factor\",\n",
    "    min_value=0,\n",
    "    max_value=1)\n",
    "\n",
    "    temp = hp.Float(\n",
    "    \"temperature\",\n",
    "    min_value=1,\n",
    "    max_value=10,)\n",
    "\n",
    "    student = build_student_model()\n",
    "\n",
    "    distiller = Distiller(student=student,\n",
    "                      teacher=teacher)\n",
    "\n",
    "    distiller.compile(\n",
    "    optimizer=keras.optimizers.AdamW(),\n",
    "    metrics=[keras.metrics.SparseCategoricalAccuracy()],\n",
    "    student_loss_fn=keras.losses.SparseCategoricalCrossentropy(from_logits=True),\n",
    "    distillation_loss_fn=keras.losses.KLDivergence(),\n",
    "    alpha=alpha,\n",
    "    temperature=temp,\n",
    "    )\n",
    "\n",
    "    return distiller"
   ]
  },
  {
   "cell_type": "code",
   "execution_count": 9,
   "metadata": {},
   "outputs": [],
   "source": [
    "tuner = kt.Hyperband(build_model,\n",
    "                     objective='val_sparse_categorical_accuracy',\n",
    "                     max_epochs=40,\n",
    "                     factor=4,\n",
    "                     directory='amr_dir',\n",
    "                     project_name='student_optimization')\n"
   ]
  },
  {
   "cell_type": "code",
   "execution_count": 10,
   "metadata": {},
   "outputs": [],
   "source": [
    "stop_early = tf.keras.callbacks.EarlyStopping(monitor='val_sparse_categorical_accuracy', patience=5)"
   ]
  },
  {
   "cell_type": "code",
   "execution_count": null,
   "metadata": {},
   "outputs": [
    {
     "name": "stdout",
     "output_type": "stream",
     "text": [
      "Trial 4 Complete [00h 14m 24s]\n",
      "val_sparse_categorical_accuracy: 0.6505365371704102\n",
      "\n",
      "Best val_sparse_categorical_accuracy So Far: 0.7184868454933167\n",
      "Total elapsed time: 00h 56m 42s\n",
      "\n",
      "Search: Running Trial #5\n",
      "\n",
      "Value             |Best Value So Far |Hyperparameter\n",
      "0.18331           |0.019345          |alpha_factor\n",
      "2.3153            |1.7448            |temperature\n",
      "3                 |3                 |tuner/epochs\n",
      "0                 |0                 |tuner/initial_epoch\n",
      "2                 |2                 |tuner/bracket\n",
      "0                 |0                 |tuner/round\n",
      "\n",
      "Epoch 1/3\n"
     ]
    },
    {
     "name": "stderr",
     "output_type": "stream",
     "text": [
      "2024-06-01 18:35:06.071539: I tensorflow/core/kernels/data/shuffle_dataset_op.cc:450] ShuffleDatasetV3:38: Filling up shuffle buffer (this may take a while): 90246 of 177012\n",
      "2024-06-01 18:35:16.137460: I tensorflow/core/kernels/data/shuffle_dataset_op.cc:450] ShuffleDatasetV3:38: Filling up shuffle buffer (this may take a while): 162826 of 177012\n",
      "2024-06-01 18:35:17.780619: I tensorflow/core/kernels/data/shuffle_dataset_op.cc:480] Shuffle buffer filled.\n"
     ]
    },
    {
     "name": "stdout",
     "output_type": "stream",
     "text": [
      "\u001b[1m11064/11064\u001b[0m \u001b[32m━━━━━━━━━━━━━━━━━━━━\u001b[0m\u001b[37m\u001b[0m \u001b[1m286s\u001b[0m 23ms/step - sparse_categorical_accuracy: 0.6316 - distillation_loss: 2.3968 - loss: -5.4492 - student_loss: 0.8373 - val_loss: -10.2160 - val_sparse_categorical_accuracy: 0.6436\n",
      "Epoch 2/3\n"
     ]
    },
    {
     "name": "stderr",
     "output_type": "stream",
     "text": [
      "2024-06-01 18:39:47.906466: I tensorflow/core/kernels/data/shuffle_dataset_op.cc:450] ShuffleDatasetV3:38: Filling up shuffle buffer (this may take a while): 116738 of 177012\n"
     ]
    },
    {
     "name": "stdout",
     "output_type": "stream",
     "text": [
      "\u001b[1m    3/11064\u001b[0m \u001b[37m━━━━━━━━━━━━━━━━━━━━\u001b[0m \u001b[1m4:47\u001b[0m 26ms/step - sparse_categorical_accuracy: 0.2908 - distillation_loss: 9.1613 - loss: -9.0343 - student_loss: 3.1268    "
     ]
    },
    {
     "name": "stderr",
     "output_type": "stream",
     "text": [
      "2024-06-01 18:39:56.059713: I tensorflow/core/kernels/data/shuffle_dataset_op.cc:480] Shuffle buffer filled.\n"
     ]
    },
    {
     "name": "stdout",
     "output_type": "stream",
     "text": [
      "\u001b[1m11064/11064\u001b[0m \u001b[32m━━━━━━━━━━━━━━━━━━━━\u001b[0m\u001b[37m\u001b[0m \u001b[1m272s\u001b[0m 23ms/step - sparse_categorical_accuracy: 0.7554 - distillation_loss: 1.3648 - loss: -8.5038 - student_loss: 0.6738 - val_loss: -8.6141 - val_sparse_categorical_accuracy: 0.6633\n",
      "Epoch 3/3\n"
     ]
    },
    {
     "name": "stderr",
     "output_type": "stream",
     "text": [
      "2024-06-01 18:44:19.486815: I tensorflow/core/kernels/data/shuffle_dataset_op.cc:450] ShuffleDatasetV3:38: Filling up shuffle buffer (this may take a while): 60419 of 177012\n",
      "2024-06-01 18:44:32.131714: I tensorflow/core/kernels/data/shuffle_dataset_op.cc:480] Shuffle buffer filled.\n"
     ]
    },
    {
     "name": "stdout",
     "output_type": "stream",
     "text": [
      "\u001b[1m 4560/11064\u001b[0m \u001b[32m━━━━━━━━\u001b[0m\u001b[37m━━━━━━━━━━━━\u001b[0m \u001b[1m52:21\u001b[0m 483ms/step - sparse_categorical_accuracy: 0.8360 - distillation_loss: 1.0769 - loss: -6.8030 - student_loss: 0.5263"
     ]
    }
   ],
   "source": [
    "tuner.search(train_ds, epochs=50, validation_data=val_ds, callbacks=[stop_early])"
   ]
  },
  {
   "cell_type": "code",
   "execution_count": null,
   "metadata": {},
   "outputs": [],
   "source": [
    "\n",
    "best_model = tuner.get_best_models()[0]\n"
   ]
  },
  {
   "cell_type": "code",
   "execution_count": 10,
   "metadata": {},
   "outputs": [
    {
     "name": "stdout",
     "output_type": "stream",
     "text": [
      "Epoch 1/20\n"
     ]
    },
    {
     "name": "stderr",
     "output_type": "stream",
     "text": [
      "/usr/local/lib/python3.11/dist-packages/keras/src/backend/tensorflow/trainer.py:587: UserWarning: `model.compiled_metrics()` is deprecated. Instead, use e.g.:\n",
      "```\n",
      "for metric in self.metrics:\n",
      "    metric.update_state(y, y_pred)\n",
      "```\n",
      "\n",
      "  return self._compiled_metrics_update_state(\n",
      "2024-05-30 22:02:21.368811: I tensorflow/core/kernels/data/shuffle_dataset_op.cc:450] ShuffleDatasetV3:38: Filling up shuffle buffer (this may take a while): 113653 of 177012\n",
      "2024-05-30 22:02:28.308089: I tensorflow/core/kernels/data/shuffle_dataset_op.cc:480] Shuffle buffer filled.\n",
      "WARNING: All log messages before absl::InitializeLog() is called are written to STDERR\n",
      "I0000 00:00:1717106548.315317     129 service.cc:145] XLA service 0xeab4040 initialized for platform CUDA (this does not guarantee that XLA will be used). Devices:\n",
      "I0000 00:00:1717106548.315393     129 service.cc:153]   StreamExecutor device (0): NVIDIA GeForce RTX 3050 Laptop GPU, Compute Capability 8.6\n",
      "2024-05-30 22:02:28.498703: I tensorflow/compiler/mlir/tensorflow/utils/dump_mlir_util.cc:268] disabling MLIR crash reproducer, set env var `MLIR_CRASH_REPRODUCER_DIRECTORY` to enable.\n",
      "2024-05-30 22:02:29.198057: I external/local_xla/xla/stream_executor/cuda/cuda_dnn.cc:465] Loaded cuDNN version 8906\n",
      "WARNING: All log messages before absl::InitializeLog() is called are written to STDERR\n",
      "I0000 00:00:1717106549.782177     176 asm_compiler.cc:369] ptxas warning : Registers are spilled to local memory in function 'triton_gemm_dot_1127', 12 bytes spill stores, 12 bytes spill loads\n",
      "\n"
     ]
    },
    {
     "name": "stdout",
     "output_type": "stream",
     "text": [
      "\u001b[1m    1/11064\u001b[0m \u001b[37m━━━━━━━━━━━━━━━━━━━━\u001b[0m \u001b[1m87:35:14\u001b[0m 29s/step - sparse_categorical_accuracy: 0.0000e+00 - distillation_loss: 3.1467 - loss: 0.1138 - student_loss: 3.3527"
     ]
    },
    {
     "name": "stderr",
     "output_type": "stream",
     "text": [
      "I0000 00:00:1717106556.560309     129 device_compiler.h:188] Compiled cluster using XLA!  This line is logged at most once for the lifetime of the process.\n"
     ]
    },
    {
     "name": "stdout",
     "output_type": "stream",
     "text": [
      "\u001b[1m11064/11064\u001b[0m \u001b[32m━━━━━━━━━━━━━━━━━━━━\u001b[0m\u001b[37m\u001b[0m \u001b[1m0s\u001b[0m 20ms/step - sparse_categorical_accuracy: 0.6623 - distillation_loss: 0.5085 - loss: -2.2027 - student_loss: 0.8190"
     ]
    },
    {
     "name": "stderr",
     "output_type": "stream",
     "text": [
      "/usr/local/lib/python3.11/dist-packages/keras/src/saving/saving_api.py:100: UserWarning: You are saving a model that has not yet been built. It might not contain any weights yet. Consider building the model first by calling it on some data.\n",
      "  saving_lib.save_model(model, filepath)\n"
     ]
    },
    {
     "name": "stdout",
     "output_type": "stream",
     "text": [
      "\u001b[1m11064/11064\u001b[0m \u001b[32m━━━━━━━━━━━━━━━━━━━━\u001b[0m\u001b[37m\u001b[0m \u001b[1m269s\u001b[0m 22ms/step - sparse_categorical_accuracy: 0.6623 - distillation_loss: 0.5085 - loss: -2.2028 - student_loss: 0.8190 - val_loss: -4.5641 - val_sparse_categorical_accuracy: 0.6765\n",
      "Epoch 2/20\n"
     ]
    },
    {
     "name": "stderr",
     "output_type": "stream",
     "text": [
      "2024-05-30 22:06:47.503428: I tensorflow/core/kernels/data/shuffle_dataset_op.cc:450] ShuffleDatasetV3:38: Filling up shuffle buffer (this may take a while): 79881 of 177012\n",
      "2024-05-30 22:06:57.612014: I tensorflow/core/kernels/data/shuffle_dataset_op.cc:450] ShuffleDatasetV3:38: Filling up shuffle buffer (this may take a while): 155651 of 177012\n",
      "2024-05-30 22:06:59.979570: I tensorflow/core/kernels/data/shuffle_dataset_op.cc:480] Shuffle buffer filled.\n"
     ]
    },
    {
     "name": "stdout",
     "output_type": "stream",
     "text": [
      "\u001b[1m11064/11064\u001b[0m \u001b[32m━━━━━━━━━━━━━━━━━━━━\u001b[0m\u001b[37m\u001b[0m \u001b[1m254s\u001b[0m 21ms/step - sparse_categorical_accuracy: 0.7777 - distillation_loss: 0.3151 - loss: -4.1243 - student_loss: 0.6246 - val_loss: -4.7965 - val_sparse_categorical_accuracy: 0.7191\n",
      "Epoch 3/20\n"
     ]
    },
    {
     "name": "stderr",
     "output_type": "stream",
     "text": [
      "2024-05-30 22:11:01.022030: I tensorflow/core/kernels/data/shuffle_dataset_op.cc:450] ShuffleDatasetV3:38: Filling up shuffle buffer (this may take a while): 82970 of 177012\n",
      "2024-05-30 22:11:11.135020: I tensorflow/core/kernels/data/shuffle_dataset_op.cc:450] ShuffleDatasetV3:38: Filling up shuffle buffer (this may take a while): 152584 of 177012\n",
      "2024-05-30 22:11:13.157203: I tensorflow/core/kernels/data/shuffle_dataset_op.cc:480] Shuffle buffer filled.\n"
     ]
    },
    {
     "name": "stdout",
     "output_type": "stream",
     "text": [
      "\u001b[1m11064/11064\u001b[0m \u001b[32m━━━━━━━━━━━━━━━━━━━━\u001b[0m\u001b[37m\u001b[0m \u001b[1m257s\u001b[0m 21ms/step - sparse_categorical_accuracy: 0.7946 - distillation_loss: 0.2799 - loss: -4.1774 - student_loss: 0.5878 - val_loss: -4.1990 - val_sparse_categorical_accuracy: 0.7262\n",
      "Epoch 4/20\n"
     ]
    },
    {
     "name": "stderr",
     "output_type": "stream",
     "text": [
      "2024-05-30 22:15:18.088271: I tensorflow/core/kernels/data/shuffle_dataset_op.cc:450] ShuffleDatasetV3:38: Filling up shuffle buffer (this may take a while): 72708 of 177012\n",
      "2024-05-30 22:15:31.484341: I tensorflow/core/kernels/data/shuffle_dataset_op.cc:480] Shuffle buffer filled.\n"
     ]
    },
    {
     "name": "stdout",
     "output_type": "stream",
     "text": [
      "\u001b[1m11064/11064\u001b[0m \u001b[32m━━━━━━━━━━━━━━━━━━━━\u001b[0m\u001b[37m\u001b[0m \u001b[1m258s\u001b[0m 21ms/step - sparse_categorical_accuracy: 0.8007 - distillation_loss: 0.2616 - loss: -3.7316 - student_loss: 0.5684 - val_loss: -3.5516 - val_sparse_categorical_accuracy: 0.7375\n",
      "Epoch 5/20\n"
     ]
    },
    {
     "name": "stderr",
     "output_type": "stream",
     "text": [
      "2024-05-30 22:19:35.768367: I tensorflow/core/kernels/data/shuffle_dataset_op.cc:450] ShuffleDatasetV3:38: Filling up shuffle buffer (this may take a while): 89086 of 177012\n",
      "2024-05-30 22:19:45.895366: I tensorflow/core/kernels/data/shuffle_dataset_op.cc:450] ShuffleDatasetV3:38: Filling up shuffle buffer (this may take a while): 161787 of 177012\n",
      "2024-05-30 22:19:48.416443: I tensorflow/core/kernels/data/shuffle_dataset_op.cc:480] Shuffle buffer filled.\n"
     ]
    },
    {
     "name": "stdout",
     "output_type": "stream",
     "text": [
      "\u001b[1m11064/11064\u001b[0m \u001b[32m━━━━━━━━━━━━━━━━━━━━\u001b[0m\u001b[37m\u001b[0m \u001b[1m260s\u001b[0m 21ms/step - sparse_categorical_accuracy: 0.8079 - distillation_loss: 0.2473 - loss: -3.2558 - student_loss: 0.5542 - val_loss: -3.0982 - val_sparse_categorical_accuracy: 0.7224\n",
      "Epoch 6/20\n"
     ]
    },
    {
     "name": "stderr",
     "output_type": "stream",
     "text": [
      "2024-05-30 22:23:55.425207: I tensorflow/core/kernels/data/shuffle_dataset_op.cc:450] ShuffleDatasetV3:38: Filling up shuffle buffer (this may take a while): 79887 of 177012\n",
      "2024-05-30 22:24:05.525542: I tensorflow/core/kernels/data/shuffle_dataset_op.cc:450] ShuffleDatasetV3:38: Filling up shuffle buffer (this may take a while): 150529 of 177012\n"
     ]
    },
    {
     "name": "stdout",
     "output_type": "stream",
     "text": [
      "\u001b[1m    1/11064\u001b[0m \u001b[37m━━━━━━━━━━━━━━━━━━━━\u001b[0m \u001b[1m74:39:02\u001b[0m 24s/step - sparse_categorical_accuracy: 0.5938 - distillation_loss: 1.5962 - loss: -2.7810 - student_loss: 1.6565"
     ]
    },
    {
     "name": "stderr",
     "output_type": "stream",
     "text": [
      "2024-05-30 22:24:09.424423: I tensorflow/core/kernels/data/shuffle_dataset_op.cc:480] Shuffle buffer filled.\n"
     ]
    },
    {
     "name": "stdout",
     "output_type": "stream",
     "text": [
      "\u001b[1m11064/11064\u001b[0m \u001b[32m━━━━━━━━━━━━━━━━━━━━\u001b[0m\u001b[37m\u001b[0m \u001b[1m262s\u001b[0m 21ms/step - sparse_categorical_accuracy: 0.8153 - distillation_loss: 0.2361 - loss: -2.8383 - student_loss: 0.5425 - val_loss: -2.7109 - val_sparse_categorical_accuracy: 0.7457\n",
      "Epoch 7/20\n"
     ]
    },
    {
     "name": "stderr",
     "output_type": "stream",
     "text": [
      "2024-05-30 22:28:17.552452: I tensorflow/core/kernels/data/shuffle_dataset_op.cc:450] ShuffleDatasetV3:38: Filling up shuffle buffer (this may take a while): 87041 of 177012\n",
      "2024-05-30 22:28:30.013860: I tensorflow/core/kernels/data/shuffle_dataset_op.cc:480] Shuffle buffer filled.\n"
     ]
    },
    {
     "name": "stdout",
     "output_type": "stream",
     "text": [
      "\u001b[1m11064/11064\u001b[0m \u001b[32m━━━━━━━━━━━━━━━━━━━━\u001b[0m\u001b[37m\u001b[0m \u001b[1m260s\u001b[0m 21ms/step - sparse_categorical_accuracy: 0.8234 - distillation_loss: 0.2257 - loss: -2.5545 - student_loss: 0.5315 - val_loss: -2.1324 - val_sparse_categorical_accuracy: 0.7575\n",
      "Epoch 8/20\n"
     ]
    },
    {
     "name": "stderr",
     "output_type": "stream",
     "text": [
      "2024-05-30 22:32:37.147954: I tensorflow/core/kernels/data/shuffle_dataset_op.cc:450] ShuffleDatasetV3:38: Filling up shuffle buffer (this may take a while): 72708 of 177012\n",
      "2024-05-30 22:32:51.148614: I tensorflow/core/kernels/data/shuffle_dataset_op.cc:480] Shuffle buffer filled.\n"
     ]
    },
    {
     "name": "stdout",
     "output_type": "stream",
     "text": [
      "\u001b[1m11064/11064\u001b[0m \u001b[32m━━━━━━━━━━━━━━━━━━━━\u001b[0m\u001b[37m\u001b[0m \u001b[1m262s\u001b[0m 22ms/step - sparse_categorical_accuracy: 0.8305 - distillation_loss: 0.2160 - loss: -2.0561 - student_loss: 0.5210 - val_loss: -1.8008 - val_sparse_categorical_accuracy: 0.7626\n",
      "Epoch 9/20\n"
     ]
    },
    {
     "name": "stderr",
     "output_type": "stream",
     "text": [
      "2024-05-30 22:36:59.502937: I tensorflow/core/kernels/data/shuffle_dataset_op.cc:450] ShuffleDatasetV3:38: Filling up shuffle buffer (this may take a while): 88832 of 177012\n"
     ]
    },
    {
     "name": "stdout",
     "output_type": "stream",
     "text": [
      "\u001b[1m    1/11064\u001b[0m \u001b[37m━━━━━━━━━━━━━━━━━━━━\u001b[0m \u001b[1m75:55:48\u001b[0m 25s/step - sparse_categorical_accuracy: 0.6406 - distillation_loss: 0.8614 - loss: -1.5062 - student_loss: 0.9258"
     ]
    },
    {
     "name": "stderr",
     "output_type": "stream",
     "text": [
      "2024-05-30 22:37:13.994806: I tensorflow/core/kernels/data/shuffle_dataset_op.cc:480] Shuffle buffer filled.\n"
     ]
    },
    {
     "name": "stdout",
     "output_type": "stream",
     "text": [
      "\u001b[1m11064/11064\u001b[0m \u001b[32m━━━━━━━━━━━━━━━━━━━━\u001b[0m\u001b[37m\u001b[0m \u001b[1m260s\u001b[0m 21ms/step - sparse_categorical_accuracy: 0.8347 - distillation_loss: 0.2093 - loss: -1.5977 - student_loss: 0.5138 - val_loss: -1.1126 - val_sparse_categorical_accuracy: 0.7608\n",
      "Epoch 10/20\n"
     ]
    },
    {
     "name": "stderr",
     "output_type": "stream",
     "text": [
      "2024-05-30 22:41:19.444058: I tensorflow/core/kernels/data/shuffle_dataset_op.cc:450] ShuffleDatasetV3:38: Filling up shuffle buffer (this may take a while): 80902 of 177012\n",
      "2024-05-30 22:41:29.446491: I tensorflow/core/kernels/data/shuffle_dataset_op.cc:450] ShuffleDatasetV3:38: Filling up shuffle buffer (this may take a while): 157698 of 177012\n",
      "2024-05-30 22:41:32.641050: I tensorflow/core/kernels/data/shuffle_dataset_op.cc:480] Shuffle buffer filled.\n"
     ]
    },
    {
     "name": "stdout",
     "output_type": "stream",
     "text": [
      "\u001b[1m11064/11064\u001b[0m \u001b[32m━━━━━━━━━━━━━━━━━━━━\u001b[0m\u001b[37m\u001b[0m \u001b[1m254s\u001b[0m 21ms/step - sparse_categorical_accuracy: 0.8363 - distillation_loss: 0.2044 - loss: -1.1187 - student_loss: 0.5085 - val_loss: -0.7029 - val_sparse_categorical_accuracy: 0.7727\n",
      "Epoch 11/20\n"
     ]
    },
    {
     "name": "stderr",
     "output_type": "stream",
     "text": [
      "2024-05-30 22:45:33.224615: I tensorflow/core/kernels/data/shuffle_dataset_op.cc:450] ShuffleDatasetV3:38: Filling up shuffle buffer (this may take a while): 89415 of 177012\n",
      "2024-05-30 22:45:43.351536: I tensorflow/core/kernels/data/shuffle_dataset_op.cc:450] ShuffleDatasetV3:38: Filling up shuffle buffer (this may take a while): 158721 of 177012\n",
      "2024-05-30 22:45:45.381700: I tensorflow/core/kernels/data/shuffle_dataset_op.cc:480] Shuffle buffer filled.\n"
     ]
    },
    {
     "name": "stdout",
     "output_type": "stream",
     "text": [
      "\u001b[1m11064/11064\u001b[0m \u001b[32m━━━━━━━━━━━━━━━━━━━━\u001b[0m\u001b[37m\u001b[0m \u001b[1m250s\u001b[0m 21ms/step - sparse_categorical_accuracy: 0.8390 - distillation_loss: 0.1999 - loss: -0.7035 - student_loss: 0.5034 - val_loss: -0.2840 - val_sparse_categorical_accuracy: 0.7561\n",
      "Epoch 12/20\n"
     ]
    },
    {
     "name": "stderr",
     "output_type": "stream",
     "text": [
      "2024-05-30 22:49:42.972739: I tensorflow/core/kernels/data/shuffle_dataset_op.cc:450] ShuffleDatasetV3:38: Filling up shuffle buffer (this may take a while): 86048 of 177012\n",
      "2024-05-30 22:49:54.532857: I tensorflow/core/kernels/data/shuffle_dataset_op.cc:480] Shuffle buffer filled.\n"
     ]
    },
    {
     "name": "stdout",
     "output_type": "stream",
     "text": [
      "\u001b[1m11064/11064\u001b[0m \u001b[32m━━━━━━━━━━━━━━━━━━━━\u001b[0m\u001b[37m\u001b[0m \u001b[1m248s\u001b[0m 20ms/step - sparse_categorical_accuracy: 0.8402 - distillation_loss: 0.1967 - loss: -0.3817 - student_loss: 0.5002 - val_loss: 0.1216 - val_sparse_categorical_accuracy: 0.7753\n",
      "Epoch 13/20\n"
     ]
    },
    {
     "name": "stderr",
     "output_type": "stream",
     "text": [
      "2024-05-30 22:53:51.063445: I tensorflow/core/kernels/data/shuffle_dataset_op.cc:450] ShuffleDatasetV3:38: Filling up shuffle buffer (this may take a while): 88888 of 177012\n",
      "2024-05-30 22:54:01.058841: I tensorflow/core/kernels/data/shuffle_dataset_op.cc:450] ShuffleDatasetV3:38: Filling up shuffle buffer (this may take a while): 152103 of 177012\n",
      "2024-05-30 22:54:05.022395: I tensorflow/core/kernels/data/shuffle_dataset_op.cc:480] Shuffle buffer filled.\n"
     ]
    },
    {
     "name": "stdout",
     "output_type": "stream",
     "text": [
      "\u001b[1m11064/11064\u001b[0m \u001b[32m━━━━━━━━━━━━━━━━━━━━\u001b[0m\u001b[37m\u001b[0m \u001b[1m252s\u001b[0m 21ms/step - sparse_categorical_accuracy: 0.8410 - distillation_loss: 0.1940 - loss: -0.0675 - student_loss: 0.4973 - val_loss: 0.3467 - val_sparse_categorical_accuracy: 0.7673\n",
      "Epoch 14/20\n"
     ]
    },
    {
     "name": "stderr",
     "output_type": "stream",
     "text": [
      "2024-05-30 22:58:03.367608: I tensorflow/core/kernels/data/shuffle_dataset_op.cc:450] ShuffleDatasetV3:38: Filling up shuffle buffer (this may take a while): 90730 of 177012\n",
      "2024-05-30 22:58:13.418635: I tensorflow/core/kernels/data/shuffle_dataset_op.cc:450] ShuffleDatasetV3:38: Filling up shuffle buffer (this may take a while): 166914 of 177012\n",
      "2024-05-30 22:58:14.706515: I tensorflow/core/kernels/data/shuffle_dataset_op.cc:480] Shuffle buffer filled.\n"
     ]
    },
    {
     "name": "stdout",
     "output_type": "stream",
     "text": [
      "\u001b[1m11064/11064\u001b[0m \u001b[32m━━━━━━━━━━━━━━━━━━━━\u001b[0m\u001b[37m\u001b[0m \u001b[1m247s\u001b[0m 20ms/step - sparse_categorical_accuracy: 0.8419 - distillation_loss: 0.1908 - loss: 0.1665 - student_loss: 0.4938 - val_loss: 0.5684 - val_sparse_categorical_accuracy: 0.7658\n",
      "Epoch 15/20\n"
     ]
    },
    {
     "name": "stderr",
     "output_type": "stream",
     "text": [
      "2024-05-30 23:02:10.705508: I tensorflow/core/kernels/data/shuffle_dataset_op.cc:450] ShuffleDatasetV3:38: Filling up shuffle buffer (this may take a while): 88065 of 177012\n",
      "2024-05-30 23:02:21.864066: I tensorflow/core/kernels/data/shuffle_dataset_op.cc:480] Shuffle buffer filled.\n"
     ]
    },
    {
     "name": "stdout",
     "output_type": "stream",
     "text": [
      "\u001b[1m11064/11064\u001b[0m \u001b[32m━━━━━━━━━━━━━━━━━━━━\u001b[0m\u001b[37m\u001b[0m \u001b[1m247s\u001b[0m 20ms/step - sparse_categorical_accuracy: 0.8434 - distillation_loss: 0.1888 - loss: 0.4062 - student_loss: 0.4910 - val_loss: 0.7117 - val_sparse_categorical_accuracy: 0.7680\n",
      "Epoch 16/20\n"
     ]
    },
    {
     "name": "stderr",
     "output_type": "stream",
     "text": [
      "2024-05-30 23:06:17.964570: I tensorflow/core/kernels/data/shuffle_dataset_op.cc:450] ShuffleDatasetV3:38: Filling up shuffle buffer (this may take a while): 84993 of 177012\n"
     ]
    },
    {
     "name": "stdout",
     "output_type": "stream",
     "text": [
      "\u001b[1m    1/11064\u001b[0m \u001b[37m━━━━━━━━━━━━━━━━━━━━\u001b[0m \u001b[1m67:54:57\u001b[0m 22s/step - sparse_categorical_accuracy: 0.8125 - distillation_loss: 0.4204 - loss: 0.8115 - student_loss: 0.4760"
     ]
    },
    {
     "name": "stderr",
     "output_type": "stream",
     "text": [
      "2024-05-30 23:06:29.704006: I tensorflow/core/kernels/data/shuffle_dataset_op.cc:480] Shuffle buffer filled.\n"
     ]
    },
    {
     "name": "stdout",
     "output_type": "stream",
     "text": [
      "\u001b[1m11064/11064\u001b[0m \u001b[32m━━━━━━━━━━━━━━━━━━━━\u001b[0m\u001b[37m\u001b[0m \u001b[1m246s\u001b[0m 20ms/step - sparse_categorical_accuracy: 0.8436 - distillation_loss: 0.1871 - loss: 0.5800 - student_loss: 0.4896 - val_loss: 1.2221 - val_sparse_categorical_accuracy: 0.7622\n",
      "Epoch 17/20\n"
     ]
    },
    {
     "name": "stderr",
     "output_type": "stream",
     "text": [
      "2024-05-30 23:10:24.162160: I tensorflow/core/kernels/data/shuffle_dataset_op.cc:450] ShuffleDatasetV3:38: Filling up shuffle buffer (this may take a while): 89129 of 177012\n",
      "2024-05-30 23:10:34.301544: I tensorflow/core/kernels/data/shuffle_dataset_op.cc:450] ShuffleDatasetV3:38: Filling up shuffle buffer (this may take a while): 165890 of 177012\n",
      "2024-05-30 23:10:35.242179: I tensorflow/core/kernels/data/shuffle_dataset_op.cc:480] Shuffle buffer filled.\n"
     ]
    },
    {
     "name": "stdout",
     "output_type": "stream",
     "text": [
      "\u001b[1m11064/11064\u001b[0m \u001b[32m━━━━━━━━━━━━━━━━━━━━\u001b[0m\u001b[37m\u001b[0m \u001b[1m257s\u001b[0m 21ms/step - sparse_categorical_accuracy: 0.8463 - distillation_loss: 0.1845 - loss: 0.7533 - student_loss: 0.4871 - val_loss: 1.0142 - val_sparse_categorical_accuracy: 0.7606\n",
      "Epoch 18/20\n"
     ]
    },
    {
     "name": "stderr",
     "output_type": "stream",
     "text": [
      "2024-05-30 23:14:40.855367: I tensorflow/core/kernels/data/shuffle_dataset_op.cc:450] ShuffleDatasetV3:38: Filling up shuffle buffer (this may take a while): 82940 of 177012\n",
      "2024-05-30 23:14:51.015210: I tensorflow/core/kernels/data/shuffle_dataset_op.cc:450] ShuffleDatasetV3:38: Filling up shuffle buffer (this may take a while): 164873 of 177012\n",
      "2024-05-30 23:14:52.838338: I tensorflow/core/kernels/data/shuffle_dataset_op.cc:480] Shuffle buffer filled.\n"
     ]
    },
    {
     "name": "stdout",
     "output_type": "stream",
     "text": [
      "\u001b[1m11064/11064\u001b[0m \u001b[32m━━━━━━━━━━━━━━━━━━━━\u001b[0m\u001b[37m\u001b[0m \u001b[1m250s\u001b[0m 21ms/step - sparse_categorical_accuracy: 0.8451 - distillation_loss: 0.1823 - loss: 0.9363 - student_loss: 0.4851 - val_loss: 1.1786 - val_sparse_categorical_accuracy: 0.7883\n",
      "Epoch 19/20\n"
     ]
    },
    {
     "name": "stderr",
     "output_type": "stream",
     "text": [
      "2024-05-30 23:18:50.694758: I tensorflow/core/kernels/data/shuffle_dataset_op.cc:450] ShuffleDatasetV3:38: Filling up shuffle buffer (this may take a while): 77342 of 177012\n",
      "2024-05-30 23:19:00.784369: I tensorflow/core/kernels/data/shuffle_dataset_op.cc:450] ShuffleDatasetV3:38: Filling up shuffle buffer (this may take a while): 156691 of 177012\n",
      "2024-05-30 23:19:03.534691: I tensorflow/core/kernels/data/shuffle_dataset_op.cc:480] Shuffle buffer filled.\n"
     ]
    },
    {
     "name": "stdout",
     "output_type": "stream",
     "text": [
      "\u001b[1m11064/11064\u001b[0m \u001b[32m━━━━━━━━━━━━━━━━━━━━\u001b[0m\u001b[37m\u001b[0m \u001b[1m261s\u001b[0m 22ms/step - sparse_categorical_accuracy: 0.8461 - distillation_loss: 0.1817 - loss: 0.9729 - student_loss: 0.4834 - val_loss: 1.1838 - val_sparse_categorical_accuracy: 0.7858\n",
      "Epoch 20/20\n"
     ]
    },
    {
     "name": "stderr",
     "output_type": "stream",
     "text": [
      "2024-05-30 23:23:12.090846: I tensorflow/core/kernels/data/shuffle_dataset_op.cc:450] ShuffleDatasetV3:38: Filling up shuffle buffer (this may take a while): 78851 of 177012\n",
      "2024-05-30 23:23:22.223736: I tensorflow/core/kernels/data/shuffle_dataset_op.cc:450] ShuffleDatasetV3:38: Filling up shuffle buffer (this may take a while): 159747 of 177012\n",
      "2024-05-30 23:23:24.340689: I tensorflow/core/kernels/data/shuffle_dataset_op.cc:480] Shuffle buffer filled.\n"
     ]
    },
    {
     "name": "stdout",
     "output_type": "stream",
     "text": [
      "\u001b[1m11064/11064\u001b[0m \u001b[32m━━━━━━━━━━━━━━━━━━━━\u001b[0m\u001b[37m\u001b[0m \u001b[1m254s\u001b[0m 21ms/step - sparse_categorical_accuracy: 0.8471 - distillation_loss: 0.1796 - loss: 1.0565 - student_loss: 0.4812 - val_loss: 1.2080 - val_sparse_categorical_accuracy: 0.7874\n"
     ]
    },
    {
     "data": {
      "text/plain": [
       "<keras.src.callbacks.history.History at 0x7f68a014d9d0>"
      ]
     },
     "execution_count": 10,
     "metadata": {},
     "output_type": "execute_result"
    }
   ],
   "source": [
    "# distill teacher to student\n",
    "\n",
    "name = 'student'\n",
    "\n",
    "callbacks = [\n",
    "        # tf.keras.callbacks.EarlyStopping(patience=5),\n",
    "        tf.keras.callbacks.ModelCheckpoint(\n",
    "            filepath=name + '_best.keras',\n",
    "            save_weights_only=False,\n",
    "            monitor='val_sparse_categorical_accuracy',\n",
    "            mode='max',\n",
    "            save_best_only=True),\n",
    "        tf.keras.callbacks.TensorBoard(log_dir='./logs'),\n",
    "        tf.keras.callbacks.CSVLogger(name + f'{get_time_stamp()}log.csv', separator=\",\", append=True),\n",
    "        keras.callbacks.EarlyStopping(patience=epochs,\n",
    "                                      monitor='val_sparse_categorical_accuracy',\n",
    "                                      restore_best_weights=True)\n",
    "    ]\n",
    "\n",
    "distiller.fit(\n",
    "    train_ds, \n",
    "    epochs=epochs,\n",
    "    shuffle=True,\n",
    "    validation_data=val_ds,\n",
    "    callbacks=callbacks)"
   ]
  },
  {
   "cell_type": "code",
   "execution_count": 11,
   "metadata": {},
   "outputs": [],
   "source": [
    "# compile student so it can be evaluated....\n",
    "# evaluate_model_on_test_set expect a compiled model\n",
    "student.compile(\n",
    "        optimizer=keras.optimizers.AdamW(),  # Optimizer\n",
    "        # Loss function to minimize\n",
    "        loss=tf.keras.losses.SparseCategoricalCrossentropy(from_logits=True),\n",
    "        # List of metrics to monitor\n",
    "        metrics=[tf.keras.metrics.SparseCategoricalAccuracy()],\n",
    "    )\n",
    "student.save('student_best.keras')"
   ]
  },
  {
   "cell_type": "code",
   "execution_count": 12,
   "metadata": {
    "scrolled": true
   },
   "outputs": [
    {
     "name": "stdout",
     "output_type": "stream",
     "text": [
      "db: 16\n",
      "file: radiodataset0to16/Test/16/test_data.h5\n",
      "\u001b[1m307/307\u001b[0m \u001b[32m━━━━━━━━━━━━━━━━━━━━\u001b[0m\u001b[37m\u001b[0m \u001b[1m3s\u001b[0m 4ms/step - loss: 0.1144 - sparse_categorical_accuracy: 0.9641\n",
      "score: 0.9220660328865051\n",
      "db: 4\n",
      "file: radiodataset0to16/Test/4/test_data.h5\n",
      "\u001b[1m307/307\u001b[0m \u001b[32m━━━━━━━━━━━━━━━━━━━━\u001b[0m\u001b[37m\u001b[0m \u001b[1m1s\u001b[0m 3ms/step - loss: 0.5406 - sparse_categorical_accuracy: 0.7841\n",
      "score: 0.7073146104812622\n",
      "db: 12\n",
      "file: radiodataset0to16/Test/12/test_data.h5\n",
      "\u001b[1m307/307\u001b[0m \u001b[32m━━━━━━━━━━━━━━━━━━━━\u001b[0m\u001b[37m\u001b[0m \u001b[1m1s\u001b[0m 3ms/step - loss: 0.1155 - sparse_categorical_accuracy: 0.9635\n",
      "score: 0.9158516526222229\n",
      "db: 14\n",
      "file: radiodataset0to16/Test/14/test_data.h5\n",
      "\u001b[1m307/307\u001b[0m \u001b[32m━━━━━━━━━━━━━━━━━━━━\u001b[0m\u001b[37m\u001b[0m \u001b[1m1s\u001b[0m 3ms/step - loss: 0.1156 - sparse_categorical_accuracy: 0.9644\n",
      "score: 0.9187041521072388\n",
      "db: 6\n",
      "file: radiodataset0to16/Test/6/test_data.h5\n",
      "\u001b[1m307/307\u001b[0m \u001b[32m━━━━━━━━━━━━━━━━━━━━\u001b[0m\u001b[37m\u001b[0m \u001b[1m1s\u001b[0m 3ms/step - loss: 0.3192 - sparse_categorical_accuracy: 0.8577\n",
      "score: 0.7937041521072388\n",
      "db: 10\n",
      "file: radiodataset0to16/Test/10/test_data.h5\n",
      "\u001b[1m307/307\u001b[0m \u001b[32m━━━━━━━━━━━━━━━━━━━━\u001b[0m\u001b[37m\u001b[0m \u001b[1m1s\u001b[0m 3ms/step - loss: 0.1392 - sparse_categorical_accuracy: 0.9490\n",
      "score: 0.9003667235374451\n",
      "db: 0\n",
      "file: radiodataset0to16/Test/0/test_data.h5\n",
      "\u001b[1m307/307\u001b[0m \u001b[32m━━━━━━━━━━━━━━━━━━━━\u001b[0m\u001b[37m\u001b[0m \u001b[1m1s\u001b[0m 3ms/step - loss: 1.1001 - sparse_categorical_accuracy: 0.5570\n",
      "score: 0.4874694347381592\n",
      "db: 8\n",
      "file: radiodataset0to16/Test/8/test_data.h5\n",
      "\u001b[1m307/307\u001b[0m \u001b[32m━━━━━━━━━━━━━━━━━━━━\u001b[0m\u001b[37m\u001b[0m \u001b[1m1s\u001b[0m 3ms/step - loss: 0.1913 - sparse_categorical_accuracy: 0.9178\n",
      "score: 0.8628769516944885\n",
      "db: 2\n",
      "file: radiodataset0to16/Test/2/test_data.h5\n",
      "\u001b[1m307/307\u001b[0m \u001b[32m━━━━━━━━━━━━━━━━━━━━\u001b[0m\u001b[37m\u001b[0m \u001b[1m1s\u001b[0m 3ms/step - loss: 0.8095 - sparse_categorical_accuracy: 0.6649\n",
      "score: 0.5891401767730713\n"
     ]
    }
   ],
   "source": [
    "student_score = evaluate_model_on_test_set(student)"
   ]
  },
  {
   "cell_type": "code",
   "execution_count": 13,
   "metadata": {},
   "outputs": [],
   "source": [
    "student_scratch.compile(\n",
    "    optimizer=keras.optimizers.AdamW(),\n",
    "    loss=keras.losses.SparseCategoricalCrossentropy(from_logits=True),\n",
    "    metrics=[keras.metrics.SparseCategoricalAccuracy()],\n",
    ")"
   ]
  },
  {
   "cell_type": "code",
   "execution_count": 14,
   "metadata": {},
   "outputs": [
    {
     "name": "stdout",
     "output_type": "stream",
     "text": [
      "Epoch 1/20\n"
     ]
    },
    {
     "name": "stderr",
     "output_type": "stream",
     "text": [
      "2024-05-30 23:27:50.729748: I tensorflow/core/kernels/data/shuffle_dataset_op.cc:450] ShuffleDatasetV3:38: Filling up shuffle buffer (this may take a while): 81825 of 177012\n",
      "2024-05-30 23:28:00.819274: I tensorflow/core/kernels/data/shuffle_dataset_op.cc:450] ShuffleDatasetV3:38: Filling up shuffle buffer (this may take a while): 157695 of 177012\n",
      "2024-05-30 23:28:03.100340: I tensorflow/core/kernels/data/shuffle_dataset_op.cc:480] Shuffle buffer filled.\n"
     ]
    },
    {
     "name": "stdout",
     "output_type": "stream",
     "text": [
      "\u001b[1m11064/11064\u001b[0m \u001b[32m━━━━━━━━━━━━━━━━━━━━\u001b[0m\u001b[37m\u001b[0m \u001b[1m203s\u001b[0m 16ms/step - loss: 0.8877 - sparse_categorical_accuracy: 0.6539 - val_loss: 0.8126 - val_sparse_categorical_accuracy: 0.6681\n",
      "Epoch 2/20\n"
     ]
    },
    {
     "name": "stderr",
     "output_type": "stream",
     "text": [
      "2024-05-30 23:31:10.429905: I tensorflow/core/kernels/data/shuffle_dataset_op.cc:450] ShuffleDatasetV3:38: Filling up shuffle buffer (this may take a while): 86020 of 177012\n"
     ]
    },
    {
     "name": "stdout",
     "output_type": "stream",
     "text": [
      "\u001b[1m    1/11064\u001b[0m \u001b[37m━━━━━━━━━━━━━━━━━━━━\u001b[0m \u001b[1m68:59:29\u001b[0m 22s/step - loss: 2.7404 - sparse_categorical_accuracy: 0.2188"
     ]
    },
    {
     "name": "stderr",
     "output_type": "stream",
     "text": [
      "2024-05-30 23:31:22.569007: I tensorflow/core/kernels/data/shuffle_dataset_op.cc:480] Shuffle buffer filled.\n"
     ]
    },
    {
     "name": "stdout",
     "output_type": "stream",
     "text": [
      "\u001b[1m11064/11064\u001b[0m \u001b[32m━━━━━━━━━━━━━━━━━━━━\u001b[0m\u001b[37m\u001b[0m \u001b[1m185s\u001b[0m 15ms/step - loss: 0.5250 - sparse_categorical_accuracy: 0.7736 - val_loss: 0.7512 - val_sparse_categorical_accuracy: 0.6891\n",
      "Epoch 3/20\n"
     ]
    },
    {
     "name": "stderr",
     "output_type": "stream",
     "text": [
      "2024-05-30 23:34:15.565163: I tensorflow/core/kernels/data/shuffle_dataset_op.cc:450] ShuffleDatasetV3:38: Filling up shuffle buffer (this may take a while): 84993 of 177012\n"
     ]
    },
    {
     "name": "stdout",
     "output_type": "stream",
     "text": [
      "\u001b[1m    1/11064\u001b[0m \u001b[37m━━━━━━━━━━━━━━━━━━━━\u001b[0m \u001b[1m68:08:48\u001b[0m 22s/step - loss: 1.7388 - sparse_categorical_accuracy: 0.4062"
     ]
    },
    {
     "name": "stderr",
     "output_type": "stream",
     "text": [
      "2024-05-30 23:34:27.390972: I tensorflow/core/kernels/data/shuffle_dataset_op.cc:480] Shuffle buffer filled.\n"
     ]
    },
    {
     "name": "stdout",
     "output_type": "stream",
     "text": [
      "\u001b[1m11064/11064\u001b[0m \u001b[32m━━━━━━━━━━━━━━━━━━━━\u001b[0m\u001b[37m\u001b[0m \u001b[1m185s\u001b[0m 15ms/step - loss: 0.4781 - sparse_categorical_accuracy: 0.7903 - val_loss: 0.6403 - val_sparse_categorical_accuracy: 0.7306\n",
      "Epoch 4/20\n"
     ]
    },
    {
     "name": "stderr",
     "output_type": "stream",
     "text": [
      "2024-05-30 23:37:20.446411: I tensorflow/core/kernels/data/shuffle_dataset_op.cc:450] ShuffleDatasetV3:38: Filling up shuffle buffer (this may take a while): 96274 of 177012\n",
      "2024-05-30 23:37:30.534605: I tensorflow/core/kernels/data/shuffle_dataset_op.cc:450] ShuffleDatasetV3:38: Filling up shuffle buffer (this may take a while): 165884 of 177012\n"
     ]
    },
    {
     "name": "stdout",
     "output_type": "stream",
     "text": [
      "\u001b[1m    1/11064\u001b[0m \u001b[37m━━━━━━━━━━━━━━━━━━━━\u001b[0m \u001b[1m65:50:15\u001b[0m 21s/step - loss: 1.7167 - sparse_categorical_accuracy: 0.4688"
     ]
    },
    {
     "name": "stderr",
     "output_type": "stream",
     "text": [
      "2024-05-30 23:37:31.671612: I tensorflow/core/kernels/data/shuffle_dataset_op.cc:480] Shuffle buffer filled.\n"
     ]
    },
    {
     "name": "stdout",
     "output_type": "stream",
     "text": [
      "\u001b[1m11064/11064\u001b[0m \u001b[32m━━━━━━━━━━━━━━━━━━━━\u001b[0m\u001b[37m\u001b[0m \u001b[1m186s\u001b[0m 15ms/step - loss: 0.4559 - sparse_categorical_accuracy: 0.7993 - val_loss: 0.6515 - val_sparse_categorical_accuracy: 0.7256\n",
      "Epoch 5/20\n"
     ]
    },
    {
     "name": "stderr",
     "output_type": "stream",
     "text": [
      "2024-05-30 23:40:26.841109: I tensorflow/core/kernels/data/shuffle_dataset_op.cc:450] ShuffleDatasetV3:38: Filling up shuffle buffer (this may take a while): 84995 of 177012\n",
      "2024-05-30 23:40:36.918584: I tensorflow/core/kernels/data/shuffle_dataset_op.cc:450] ShuffleDatasetV3:38: Filling up shuffle buffer (this may take a while): 161793 of 177012\n"
     ]
    },
    {
     "name": "stdout",
     "output_type": "stream",
     "text": [
      "\u001b[1m    1/11064\u001b[0m \u001b[37m━━━━━━━━━━━━━━━━━━━━\u001b[0m \u001b[1m68:42:50\u001b[0m 22s/step - loss: 1.6032 - sparse_categorical_accuracy: 0.5156"
     ]
    },
    {
     "name": "stderr",
     "output_type": "stream",
     "text": [
      "2024-05-30 23:40:38.975154: I tensorflow/core/kernels/data/shuffle_dataset_op.cc:480] Shuffle buffer filled.\n"
     ]
    },
    {
     "name": "stdout",
     "output_type": "stream",
     "text": [
      "\u001b[1m11064/11064\u001b[0m \u001b[32m━━━━━━━━━━━━━━━━━━━━\u001b[0m\u001b[37m\u001b[0m \u001b[1m188s\u001b[0m 15ms/step - loss: 0.4428 - sparse_categorical_accuracy: 0.8060 - val_loss: 0.6222 - val_sparse_categorical_accuracy: 0.7373\n",
      "Epoch 6/20\n"
     ]
    },
    {
     "name": "stderr",
     "output_type": "stream",
     "text": [
      "2024-05-30 23:43:35.228384: I tensorflow/core/kernels/data/shuffle_dataset_op.cc:450] ShuffleDatasetV3:38: Filling up shuffle buffer (this may take a while): 84988 of 177012\n",
      "2024-05-30 23:43:45.245243: I tensorflow/core/kernels/data/shuffle_dataset_op.cc:450] ShuffleDatasetV3:38: Filling up shuffle buffer (this may take a while): 158721 of 177012\n"
     ]
    },
    {
     "name": "stdout",
     "output_type": "stream",
     "text": [
      "\u001b[1m    1/11064\u001b[0m \u001b[37m━━━━━━━━━━━━━━━━━━━━\u001b[0m \u001b[1m70:02:39\u001b[0m 23s/step - loss: 1.4886 - sparse_categorical_accuracy: 0.5156"
     ]
    },
    {
     "name": "stderr",
     "output_type": "stream",
     "text": [
      "2024-05-30 23:43:47.839543: I tensorflow/core/kernels/data/shuffle_dataset_op.cc:480] Shuffle buffer filled.\n"
     ]
    },
    {
     "name": "stdout",
     "output_type": "stream",
     "text": [
      "\u001b[1m11064/11064\u001b[0m \u001b[32m━━━━━━━━━━━━━━━━━━━━\u001b[0m\u001b[37m\u001b[0m \u001b[1m193s\u001b[0m 15ms/step - loss: 0.4332 - sparse_categorical_accuracy: 0.8130 - val_loss: 0.6276 - val_sparse_categorical_accuracy: 0.7349\n",
      "Epoch 7/20\n"
     ]
    },
    {
     "name": "stderr",
     "output_type": "stream",
     "text": [
      "2024-05-30 23:46:48.012583: I tensorflow/core/kernels/data/shuffle_dataset_op.cc:450] ShuffleDatasetV3:38: Filling up shuffle buffer (this may take a while): 90115 of 177012\n"
     ]
    },
    {
     "name": "stdout",
     "output_type": "stream",
     "text": [
      "\u001b[1m    1/11064\u001b[0m \u001b[37m━━━━━━━━━━━━━━━━━━━━\u001b[0m \u001b[1m72:13:44\u001b[0m 24s/step - loss: 2.6207 - sparse_categorical_accuracy: 0.3906"
     ]
    },
    {
     "name": "stderr",
     "output_type": "stream",
     "text": [
      "2024-05-30 23:47:01.102425: I tensorflow/core/kernels/data/shuffle_dataset_op.cc:480] Shuffle buffer filled.\n"
     ]
    },
    {
     "name": "stdout",
     "output_type": "stream",
     "text": [
      "\u001b[1m11064/11064\u001b[0m \u001b[32m━━━━━━━━━━━━━━━━━━━━\u001b[0m\u001b[37m\u001b[0m \u001b[1m194s\u001b[0m 15ms/step - loss: 0.4258 - sparse_categorical_accuracy: 0.8188 - val_loss: 0.5830 - val_sparse_categorical_accuracy: 0.7601\n",
      "Epoch 8/20\n"
     ]
    },
    {
     "name": "stderr",
     "output_type": "stream",
     "text": [
      "2024-05-30 23:50:01.861482: I tensorflow/core/kernels/data/shuffle_dataset_op.cc:450] ShuffleDatasetV3:38: Filling up shuffle buffer (this may take a while): 85135 of 177012\n",
      "2024-05-30 23:50:12.004578: I tensorflow/core/kernels/data/shuffle_dataset_op.cc:450] ShuffleDatasetV3:38: Filling up shuffle buffer (this may take a while): 155650 of 177012\n"
     ]
    },
    {
     "name": "stdout",
     "output_type": "stream",
     "text": [
      "\u001b[1m    1/11064\u001b[0m \u001b[37m━━━━━━━━━━━━━━━━━━━━\u001b[0m \u001b[1m73:10:15\u001b[0m 24s/step - loss: 0.7730 - sparse_categorical_accuracy: 0.7031"
     ]
    },
    {
     "name": "stderr",
     "output_type": "stream",
     "text": [
      "2024-05-30 23:50:15.491712: I tensorflow/core/kernels/data/shuffle_dataset_op.cc:480] Shuffle buffer filled.\n"
     ]
    },
    {
     "name": "stdout",
     "output_type": "stream",
     "text": [
      "\u001b[1m11064/11064\u001b[0m \u001b[32m━━━━━━━━━━━━━━━━━━━━\u001b[0m\u001b[37m\u001b[0m \u001b[1m194s\u001b[0m 15ms/step - loss: 0.4134 - sparse_categorical_accuracy: 0.8252 - val_loss: 0.6334 - val_sparse_categorical_accuracy: 0.7447\n",
      "Epoch 9/20\n"
     ]
    },
    {
     "name": "stderr",
     "output_type": "stream",
     "text": [
      "2024-05-30 23:53:16.008748: I tensorflow/core/kernels/data/shuffle_dataset_op.cc:450] ShuffleDatasetV3:38: Filling up shuffle buffer (this may take a while): 84994 of 177012\n"
     ]
    },
    {
     "name": "stdout",
     "output_type": "stream",
     "text": [
      "\u001b[1m    1/11064\u001b[0m \u001b[37m━━━━━━━━━━━━━━━━━━━━\u001b[0m \u001b[1m74:05:33\u001b[0m 24s/step - loss: 1.2044 - sparse_categorical_accuracy: 0.6250"
     ]
    },
    {
     "name": "stderr",
     "output_type": "stream",
     "text": [
      "2024-05-30 23:53:29.795665: I tensorflow/core/kernels/data/shuffle_dataset_op.cc:480] Shuffle buffer filled.\n"
     ]
    },
    {
     "name": "stdout",
     "output_type": "stream",
     "text": [
      "\u001b[1m11064/11064\u001b[0m \u001b[32m━━━━━━━━━━━━━━━━━━━━\u001b[0m\u001b[37m\u001b[0m \u001b[1m193s\u001b[0m 15ms/step - loss: 0.4057 - sparse_categorical_accuracy: 0.8291 - val_loss: 0.6002 - val_sparse_categorical_accuracy: 0.7520\n",
      "Epoch 10/20\n"
     ]
    },
    {
     "name": "stderr",
     "output_type": "stream",
     "text": [
      "2024-05-30 23:56:28.821974: I tensorflow/core/kernels/data/shuffle_dataset_op.cc:450] ShuffleDatasetV3:38: Filling up shuffle buffer (this may take a while): 84314 of 177012\n"
     ]
    },
    {
     "name": "stdout",
     "output_type": "stream",
     "text": [
      "\u001b[1m    1/11064\u001b[0m \u001b[37m━━━━━━━━━━━━━━━━━━━━\u001b[0m \u001b[1m67:16:06\u001b[0m 22s/step - loss: 1.3105 - sparse_categorical_accuracy: 0.6250"
     ]
    },
    {
     "name": "stderr",
     "output_type": "stream",
     "text": [
      "2024-05-30 23:56:40.529381: I tensorflow/core/kernels/data/shuffle_dataset_op.cc:480] Shuffle buffer filled.\n"
     ]
    },
    {
     "name": "stdout",
     "output_type": "stream",
     "text": [
      "\u001b[1m11064/11064\u001b[0m \u001b[32m━━━━━━━━━━━━━━━━━━━━\u001b[0m\u001b[37m\u001b[0m \u001b[1m193s\u001b[0m 15ms/step - loss: 0.3998 - sparse_categorical_accuracy: 0.8323 - val_loss: 0.7296 - val_sparse_categorical_accuracy: 0.7160\n",
      "Epoch 11/20\n"
     ]
    },
    {
     "name": "stderr",
     "output_type": "stream",
     "text": [
      "2024-05-30 23:59:41.656175: I tensorflow/core/kernels/data/shuffle_dataset_op.cc:450] ShuffleDatasetV3:38: Filling up shuffle buffer (this may take a while): 82961 of 177012\n",
      "2024-05-30 23:59:51.748633: I tensorflow/core/kernels/data/shuffle_dataset_op.cc:450] ShuffleDatasetV3:38: Filling up shuffle buffer (this may take a while): 156673 of 177012\n"
     ]
    },
    {
     "name": "stdout",
     "output_type": "stream",
     "text": [
      "\u001b[1m    1/11064\u001b[0m \u001b[37m━━━━━━━━━━━━━━━━━━━━\u001b[0m \u001b[1m72:29:06\u001b[0m 24s/step - loss: 1.1254 - sparse_categorical_accuracy: 0.5938"
     ]
    },
    {
     "name": "stderr",
     "output_type": "stream",
     "text": [
      "2024-05-30 23:59:54.994563: I tensorflow/core/kernels/data/shuffle_dataset_op.cc:480] Shuffle buffer filled.\n"
     ]
    },
    {
     "name": "stdout",
     "output_type": "stream",
     "text": [
      "\u001b[1m11064/11064\u001b[0m \u001b[32m━━━━━━━━━━━━━━━━━━━━\u001b[0m\u001b[37m\u001b[0m \u001b[1m198s\u001b[0m 16ms/step - loss: 0.3926 - sparse_categorical_accuracy: 0.8354 - val_loss: 0.5646 - val_sparse_categorical_accuracy: 0.7732\n",
      "Epoch 12/20\n"
     ]
    },
    {
     "name": "stderr",
     "output_type": "stream",
     "text": [
      "2024-05-31 00:02:59.181333: I tensorflow/core/kernels/data/shuffle_dataset_op.cc:450] ShuffleDatasetV3:38: Filling up shuffle buffer (this may take a while): 85191 of 177012\n",
      "2024-05-31 00:03:09.180284: I tensorflow/core/kernels/data/shuffle_dataset_op.cc:450] ShuffleDatasetV3:38: Filling up shuffle buffer (this may take a while): 159747 of 177012\n"
     ]
    },
    {
     "name": "stdout",
     "output_type": "stream",
     "text": [
      "\u001b[1m    1/11064\u001b[0m \u001b[37m━━━━━━━━━━━━━━━━━━━━\u001b[0m \u001b[1m67:50:31\u001b[0m 22s/step - loss: 0.6865 - sparse_categorical_accuracy: 0.7344"
     ]
    },
    {
     "name": "stderr",
     "output_type": "stream",
     "text": [
      "2024-05-31 00:03:11.066854: I tensorflow/core/kernels/data/shuffle_dataset_op.cc:480] Shuffle buffer filled.\n"
     ]
    },
    {
     "name": "stdout",
     "output_type": "stream",
     "text": [
      "\u001b[1m11064/11064\u001b[0m \u001b[32m━━━━━━━━━━━━━━━━━━━━\u001b[0m\u001b[37m\u001b[0m \u001b[1m193s\u001b[0m 15ms/step - loss: 0.3881 - sparse_categorical_accuracy: 0.8373 - val_loss: 0.5499 - val_sparse_categorical_accuracy: 0.7780\n",
      "Epoch 13/20\n"
     ]
    },
    {
     "name": "stderr",
     "output_type": "stream",
     "text": [
      "2024-05-31 00:06:12.041801: I tensorflow/core/kernels/data/shuffle_dataset_op.cc:450] ShuffleDatasetV3:38: Filling up shuffle buffer (this may take a while): 86017 of 177012\n"
     ]
    },
    {
     "name": "stdout",
     "output_type": "stream",
     "text": [
      "\u001b[1m    1/11064\u001b[0m \u001b[37m━━━━━━━━━━━━━━━━━━━━\u001b[0m \u001b[1m67:49:17\u001b[0m 22s/step - loss: 1.8607 - sparse_categorical_accuracy: 0.4844"
     ]
    },
    {
     "name": "stderr",
     "output_type": "stream",
     "text": [
      "2024-05-31 00:06:23.775629: I tensorflow/core/kernels/data/shuffle_dataset_op.cc:480] Shuffle buffer filled.\n"
     ]
    },
    {
     "name": "stdout",
     "output_type": "stream",
     "text": [
      "\u001b[1m11064/11064\u001b[0m \u001b[32m━━━━━━━━━━━━━━━━━━━━\u001b[0m\u001b[37m\u001b[0m \u001b[1m189s\u001b[0m 15ms/step - loss: 0.3879 - sparse_categorical_accuracy: 0.8377 - val_loss: 0.5854 - val_sparse_categorical_accuracy: 0.7570\n",
      "Epoch 14/20\n"
     ]
    },
    {
     "name": "stderr",
     "output_type": "stream",
     "text": [
      "2024-05-31 00:09:21.486540: I tensorflow/core/kernels/data/shuffle_dataset_op.cc:450] ShuffleDatasetV3:38: Filling up shuffle buffer (this may take a while): 87031 of 177012\n",
      "2024-05-31 00:09:31.508925: I tensorflow/core/kernels/data/shuffle_dataset_op.cc:450] ShuffleDatasetV3:38: Filling up shuffle buffer (this may take a while): 164866 of 177012\n"
     ]
    },
    {
     "name": "stdout",
     "output_type": "stream",
     "text": [
      "\u001b[1m    1/11064\u001b[0m \u001b[37m━━━━━━━━━━━━━━━━━━━━\u001b[0m \u001b[1m68:35:25\u001b[0m 22s/step - loss: 1.3646 - sparse_categorical_accuracy: 0.5469"
     ]
    },
    {
     "name": "stderr",
     "output_type": "stream",
     "text": [
      "2024-05-31 00:09:33.423490: I tensorflow/core/kernels/data/shuffle_dataset_op.cc:480] Shuffle buffer filled.\n"
     ]
    },
    {
     "name": "stdout",
     "output_type": "stream",
     "text": [
      "\u001b[1m11064/11064\u001b[0m \u001b[32m━━━━━━━━━━━━━━━━━━━━\u001b[0m\u001b[37m\u001b[0m \u001b[1m203s\u001b[0m 16ms/step - loss: 0.3824 - sparse_categorical_accuracy: 0.8405 - val_loss: 0.5542 - val_sparse_categorical_accuracy: 0.7773\n",
      "Epoch 15/20\n"
     ]
    },
    {
     "name": "stderr",
     "output_type": "stream",
     "text": [
      "2024-05-31 00:12:43.948091: I tensorflow/core/kernels/data/shuffle_dataset_op.cc:450] ShuffleDatasetV3:38: Filling up shuffle buffer (this may take a while): 86019 of 177012\n",
      "2024-05-31 00:12:54.027043: I tensorflow/core/kernels/data/shuffle_dataset_op.cc:450] ShuffleDatasetV3:38: Filling up shuffle buffer (this may take a while): 166914 of 177012\n"
     ]
    },
    {
     "name": "stdout",
     "output_type": "stream",
     "text": [
      "\u001b[1m    1/11064\u001b[0m \u001b[37m━━━━━━━━━━━━━━━━━━━━\u001b[0m \u001b[1m66:48:38\u001b[0m 22s/step - loss: 1.3962 - sparse_categorical_accuracy: 0.6406"
     ]
    },
    {
     "name": "stderr",
     "output_type": "stream",
     "text": [
      "2024-05-31 00:12:55.468011: I tensorflow/core/kernels/data/shuffle_dataset_op.cc:480] Shuffle buffer filled.\n"
     ]
    },
    {
     "name": "stdout",
     "output_type": "stream",
     "text": [
      "\u001b[1m11064/11064\u001b[0m \u001b[32m━━━━━━━━━━━━━━━━━━━━\u001b[0m\u001b[37m\u001b[0m \u001b[1m187s\u001b[0m 15ms/step - loss: 0.3803 - sparse_categorical_accuracy: 0.8405 - val_loss: 0.5442 - val_sparse_categorical_accuracy: 0.7735\n",
      "Epoch 16/20\n"
     ]
    },
    {
     "name": "stderr",
     "output_type": "stream",
     "text": [
      "2024-05-31 00:15:50.992514: I tensorflow/core/kernels/data/shuffle_dataset_op.cc:450] ShuffleDatasetV3:38: Filling up shuffle buffer (this may take a while): 88067 of 177012\n",
      "2024-05-31 00:16:01.018120: I tensorflow/core/kernels/data/shuffle_dataset_op.cc:450] ShuffleDatasetV3:38: Filling up shuffle buffer (this may take a while): 162817 of 177012\n",
      "2024-05-31 00:16:03.183224: I tensorflow/core/kernels/data/shuffle_dataset_op.cc:480] Shuffle buffer filled.\n"
     ]
    },
    {
     "name": "stdout",
     "output_type": "stream",
     "text": [
      "\u001b[1m11064/11064\u001b[0m \u001b[32m━━━━━━━━━━━━━━━━━━━━\u001b[0m\u001b[37m\u001b[0m \u001b[1m187s\u001b[0m 15ms/step - loss: 0.3768 - sparse_categorical_accuracy: 0.8416 - val_loss: 0.5506 - val_sparse_categorical_accuracy: 0.7778\n",
      "Epoch 17/20\n"
     ]
    },
    {
     "name": "stderr",
     "output_type": "stream",
     "text": [
      "2024-05-31 00:18:58.030195: I tensorflow/core/kernels/data/shuffle_dataset_op.cc:450] ShuffleDatasetV3:38: Filling up shuffle buffer (this may take a while): 87041 of 177012\n",
      "2024-05-31 00:19:08.081964: I tensorflow/core/kernels/data/shuffle_dataset_op.cc:450] ShuffleDatasetV3:38: Filling up shuffle buffer (this may take a while): 159753 of 177012\n",
      "2024-05-31 00:19:10.083966: I tensorflow/core/kernels/data/shuffle_dataset_op.cc:480] Shuffle buffer filled.\n"
     ]
    },
    {
     "name": "stdout",
     "output_type": "stream",
     "text": [
      "\u001b[1m11064/11064\u001b[0m \u001b[32m━━━━━━━━━━━━━━━━━━━━\u001b[0m\u001b[37m\u001b[0m \u001b[1m184s\u001b[0m 15ms/step - loss: 0.3730 - sparse_categorical_accuracy: 0.8439 - val_loss: 0.5478 - val_sparse_categorical_accuracy: 0.7753\n",
      "Epoch 18/20\n"
     ]
    },
    {
     "name": "stderr",
     "output_type": "stream",
     "text": [
      "2024-05-31 00:22:02.598347: I tensorflow/core/kernels/data/shuffle_dataset_op.cc:450] ShuffleDatasetV3:38: Filling up shuffle buffer (this may take a while): 82948 of 177012\n",
      "2024-05-31 00:22:13.351144: I tensorflow/core/kernels/data/shuffle_dataset_op.cc:480] Shuffle buffer filled.\n"
     ]
    },
    {
     "name": "stdout",
     "output_type": "stream",
     "text": [
      "\u001b[1m11064/11064\u001b[0m \u001b[32m━━━━━━━━━━━━━━━━━━━━\u001b[0m\u001b[37m\u001b[0m \u001b[1m185s\u001b[0m 15ms/step - loss: 0.3760 - sparse_categorical_accuracy: 0.8424 - val_loss: 0.5623 - val_sparse_categorical_accuracy: 0.7702\n",
      "Epoch 19/20\n"
     ]
    },
    {
     "name": "stderr",
     "output_type": "stream",
     "text": [
      "2024-05-31 00:25:07.566445: I tensorflow/core/kernels/data/shuffle_dataset_op.cc:450] ShuffleDatasetV3:38: Filling up shuffle buffer (this may take a while): 78815 of 177012\n",
      "2024-05-31 00:25:17.675418: I tensorflow/core/kernels/data/shuffle_dataset_op.cc:450] ShuffleDatasetV3:38: Filling up shuffle buffer (this may take a while): 160769 of 177012\n",
      "2024-05-31 00:25:19.568921: I tensorflow/core/kernels/data/shuffle_dataset_op.cc:480] Shuffle buffer filled.\n"
     ]
    },
    {
     "name": "stdout",
     "output_type": "stream",
     "text": [
      "\u001b[1m11064/11064\u001b[0m \u001b[32m━━━━━━━━━━━━━━━━━━━━\u001b[0m\u001b[37m\u001b[0m \u001b[1m183s\u001b[0m 15ms/step - loss: 0.3724 - sparse_categorical_accuracy: 0.8444 - val_loss: 0.5446 - val_sparse_categorical_accuracy: 0.7714\n",
      "Epoch 20/20\n"
     ]
    },
    {
     "name": "stderr",
     "output_type": "stream",
     "text": [
      "2024-05-31 00:28:10.932631: I tensorflow/core/kernels/data/shuffle_dataset_op.cc:450] ShuffleDatasetV3:38: Filling up shuffle buffer (this may take a while): 88067 of 177012\n",
      "2024-05-31 00:28:21.716784: I tensorflow/core/kernels/data/shuffle_dataset_op.cc:480] Shuffle buffer filled.\n"
     ]
    },
    {
     "name": "stdout",
     "output_type": "stream",
     "text": [
      "\u001b[1m11064/11064\u001b[0m \u001b[32m━━━━━━━━━━━━━━━━━━━━\u001b[0m\u001b[37m\u001b[0m \u001b[1m184s\u001b[0m 15ms/step - loss: 0.3714 - sparse_categorical_accuracy: 0.8440 - val_loss: 0.5769 - val_sparse_categorical_accuracy: 0.7545\n"
     ]
    },
    {
     "data": {
      "text/plain": [
       "<keras.src.callbacks.history.History at 0x7f672fd1bed0>"
      ]
     },
     "execution_count": 14,
     "metadata": {},
     "output_type": "execute_result"
    }
   ],
   "source": [
    "# Train and evaluate student trained from scratch.\n",
    "name = 'student_scratch'\n",
    "\n",
    "callbacks = [\n",
    "        # tf.keras.callbacks.EarlyStopping(patience=5),\n",
    "        tf.keras.callbacks.ModelCheckpoint(\n",
    "            filepath=name + '_best.keras',\n",
    "            save_weights_only=False,\n",
    "            monitor='val_sparse_categorical_accuracy',\n",
    "            mode='max',\n",
    "            save_best_only=True),\n",
    "        tf.keras.callbacks.TensorBoard(log_dir='./logs'),\n",
    "        tf.keras.callbacks.CSVLogger(name + f'{get_time_stamp()}log.csv', separator=\",\", append=True),\n",
    "        keras.callbacks.EarlyStopping(patience=epochs,\n",
    "                                      monitor='val_sparse_categorical_accuracy',\n",
    "                                      restore_best_weights=True)\n",
    "    ]\n",
    "\n",
    "student_scratch.fit(train_ds, epochs=20, shuffle=True, validation_data=val_ds, callbacks=callbacks)"
   ]
  },
  {
   "cell_type": "code",
   "execution_count": 15,
   "metadata": {},
   "outputs": [],
   "source": [
    "student_scratch.save('student_scratch.keras')"
   ]
  },
  {
   "cell_type": "code",
   "execution_count": 16,
   "metadata": {
    "scrolled": true
   },
   "outputs": [
    {
     "name": "stdout",
     "output_type": "stream",
     "text": [
      "db: 16\n",
      "file: radiodataset0to16/Test/16/test_data.h5\n",
      "\u001b[1m307/307\u001b[0m \u001b[32m━━━━━━━━━━━━━━━━━━━━\u001b[0m\u001b[37m\u001b[0m \u001b[1m2s\u001b[0m 3ms/step - loss: 0.1501 - sparse_categorical_accuracy: 0.9441\n",
      "score: 0.893541157245636\n",
      "db: 4\n",
      "file: radiodataset0to16/Test/4/test_data.h5\n",
      "\u001b[1m307/307\u001b[0m \u001b[32m━━━━━━━━━━━━━━━━━━━━\u001b[0m\u001b[37m\u001b[0m \u001b[1m1s\u001b[0m 2ms/step - loss: 0.5212 - sparse_categorical_accuracy: 0.7808\n",
      "score: 0.6992664933204651\n",
      "db: 12\n",
      "file: radiodataset0to16/Test/12/test_data.h5\n",
      "\u001b[1m307/307\u001b[0m \u001b[32m━━━━━━━━━━━━━━━━━━━━\u001b[0m\u001b[37m\u001b[0m \u001b[1m1s\u001b[0m 2ms/step - loss: 0.1542 - sparse_categorical_accuracy: 0.9442\n",
      "score: 0.8891605734825134\n",
      "db: 14\n",
      "file: radiodataset0to16/Test/14/test_data.h5\n",
      "\u001b[1m307/307\u001b[0m \u001b[32m━━━━━━━━━━━━━━━━━━━━\u001b[0m\u001b[37m\u001b[0m \u001b[1m1s\u001b[0m 2ms/step - loss: 0.1557 - sparse_categorical_accuracy: 0.9404\n",
      "score: 0.8835574388504028\n",
      "db: 6\n",
      "file: radiodataset0to16/Test/6/test_data.h5\n",
      "\u001b[1m307/307\u001b[0m \u001b[32m━━━━━━━━━━━━━━━━━━━━\u001b[0m\u001b[37m\u001b[0m \u001b[1m1s\u001b[0m 2ms/step - loss: 0.3161 - sparse_categorical_accuracy: 0.8742\n",
      "score: 0.7980847358703613\n",
      "db: 10\n",
      "file: radiodataset0to16/Test/10/test_data.h5\n",
      "\u001b[1m307/307\u001b[0m \u001b[32m━━━━━━━━━━━━━━━━━━━━\u001b[0m\u001b[37m\u001b[0m \u001b[1m1s\u001b[0m 3ms/step - loss: 0.1711 - sparse_categorical_accuracy: 0.9361\n",
      "score: 0.8761206269264221\n",
      "db: 0\n",
      "file: radiodataset0to16/Test/0/test_data.h5\n",
      "\u001b[1m307/307\u001b[0m \u001b[32m━━━━━━━━━━━━━━━━━━━━\u001b[0m\u001b[37m\u001b[0m \u001b[1m1s\u001b[0m 2ms/step - loss: 1.1168 - sparse_categorical_accuracy: 0.5837\n",
      "score: 0.4968418776988983\n",
      "db: 8\n",
      "file: radiodataset0to16/Test/8/test_data.h5\n",
      "\u001b[1m307/307\u001b[0m \u001b[32m━━━━━━━━━━━━━━━━━━━━\u001b[0m\u001b[37m\u001b[0m \u001b[1m1s\u001b[0m 2ms/step - loss: 0.2153 - sparse_categorical_accuracy: 0.9187\n",
      "score: 0.8536063432693481\n",
      "db: 2\n",
      "file: radiodataset0to16/Test/2/test_data.h5\n",
      "\u001b[1m307/307\u001b[0m \u001b[32m━━━━━━━━━━━━━━━━━━━━\u001b[0m\u001b[37m\u001b[0m \u001b[1m1s\u001b[0m 3ms/step - loss: 0.7870 - sparse_categorical_accuracy: 0.6807\n",
      "score: 0.596576988697052\n"
     ]
    }
   ],
   "source": [
    "student_scratch_score = evaluate_model_on_test_set(student_scratch)"
   ]
  },
  {
   "cell_type": "code",
   "execution_count": 17,
   "metadata": {
    "scrolled": true
   },
   "outputs": [
    {
     "name": "stdout",
     "output_type": "stream",
     "text": [
      "db: 16\n",
      "file: radiodataset0to16/Test/16/test_data.h5\n",
      "\u001b[1m307/307\u001b[0m \u001b[32m━━━━━━━━━━━━━━━━━━━━\u001b[0m\u001b[37m\u001b[0m \u001b[1m8s\u001b[0m 13ms/step - loss: 0.0318 - sparse_categorical_accuracy: 0.9883\n",
      "score: 0.9608802199363708\n",
      "db: 4\n",
      "file: radiodataset0to16/Test/4/test_data.h5\n",
      "\u001b[1m307/307\u001b[0m \u001b[32m━━━━━━━━━━━━━━━━━━━━\u001b[0m\u001b[37m\u001b[0m \u001b[1m2s\u001b[0m 5ms/step - loss: 0.3263 - sparse_categorical_accuracy: 0.8508\n",
      "score: 0.7813773155212402\n",
      "db: 12\n",
      "file: radiodataset0to16/Test/12/test_data.h5\n",
      "\u001b[1m307/307\u001b[0m \u001b[32m━━━━━━━━━━━━━━━━━━━━\u001b[0m\u001b[37m\u001b[0m \u001b[1m2s\u001b[0m 5ms/step - loss: 0.0342 - sparse_categorical_accuracy: 0.9874\n",
      "score: 0.9562958478927612\n",
      "db: 14\n",
      "file: radiodataset0to16/Test/14/test_data.h5\n",
      "\u001b[1m307/307\u001b[0m \u001b[32m━━━━━━━━━━━━━━━━━━━━\u001b[0m\u001b[37m\u001b[0m \u001b[1m2s\u001b[0m 6ms/step - loss: 0.0331 - sparse_categorical_accuracy: 0.9870\n",
      "score: 0.9548696279525757\n",
      "db: 6\n",
      "file: radiodataset0to16/Test/6/test_data.h5\n",
      "\u001b[1m307/307\u001b[0m \u001b[32m━━━━━━━━━━━━━━━━━━━━\u001b[0m\u001b[37m\u001b[0m \u001b[1m2s\u001b[0m 5ms/step - loss: 0.1609 - sparse_categorical_accuracy: 0.9291\n",
      "score: 0.8791768550872803\n",
      "db: 10\n",
      "file: radiodataset0to16/Test/10/test_data.h5\n",
      "\u001b[1m307/307\u001b[0m \u001b[32m━━━━━━━━━━━━━━━━━━━━\u001b[0m\u001b[37m\u001b[0m \u001b[1m2s\u001b[0m 5ms/step - loss: 0.0461 - sparse_categorical_accuracy: 0.9827\n",
      "score: 0.94834965467453\n",
      "db: 0\n",
      "file: radiodataset0to16/Test/0/test_data.h5\n",
      "\u001b[1m307/307\u001b[0m \u001b[32m━━━━━━━━━━━━━━━━━━━━\u001b[0m\u001b[37m\u001b[0m \u001b[1m2s\u001b[0m 6ms/step - loss: 0.8975 - sparse_categorical_accuracy: 0.6178\n",
      "score: 0.5395272970199585\n",
      "db: 8\n",
      "file: radiodataset0to16/Test/8/test_data.h5\n",
      "\u001b[1m307/307\u001b[0m \u001b[32m━━━━━━━━━━━━━━━━━━━━\u001b[0m\u001b[37m\u001b[0m \u001b[1m2s\u001b[0m 6ms/step - loss: 0.0720 - sparse_categorical_accuracy: 0.9719\n",
      "score: 0.9289934635162354\n",
      "db: 2\n",
      "file: radiodataset0to16/Test/2/test_data.h5\n",
      "\u001b[1m307/307\u001b[0m \u001b[32m━━━━━━━━━━━━━━━━━━━━\u001b[0m\u001b[37m\u001b[0m \u001b[1m2s\u001b[0m 5ms/step - loss: 0.6240 - sparse_categorical_accuracy: 0.7335\n",
      "score: 0.6607579588890076\n"
     ]
    }
   ],
   "source": [
    "teacher_score = evaluate_model_on_test_set(teacher)"
   ]
  },
  {
   "cell_type": "code",
   "execution_count": 18,
   "metadata": {},
   "outputs": [
    {
     "data": {
      "image/png": "[encoded data removed]",
      "text/plain": [
       "<Figure size 700x600 with 1 Axes>"
      ]
     },
     "metadata": {},
     "output_type": "display_data"
    }
   ],
   "source": [
    "snr_db = teacher_score.keys()\n",
    "plt.figure(figsize=(7, 6))\n",
    "plt.plot(snr_db, student_score.values(), label='student+teacher')\n",
    "plt.plot(snr_db, student_scratch_score.values(), label='student')\n",
    "plt.plot(snr_db, teacher_score.values(), label='teacher')\n",
    "plt.plot([0.9]*17, 'k--')\n",
    "plt.legend()\n",
    "plt.xlabel('SNR dB')\n",
    "plt.ylabel('accuracy')\n",
    "plt.savefig('knowledge_distillation_v3.png')\n",
    "plt.show()"
   ]
  },
  {
   "cell_type": "code",
   "execution_count": null,
   "metadata": {},
   "outputs": [],
   "source": []
  }
 ],
 "metadata": {
  "kernelspec": {
   "display_name": "Python 3 (ipykernel)",
   "language": "python",
   "name": "python3"
  },
  "language_info": {
   "codemirror_mode": {
    "name": "ipython",
    "version": 3
   },
   "file_extension": ".py",
   "mimetype": "text/x-python",
   "name": "python",
   "nbconvert_exporter": "python",
   "pygments_lexer": "ipython3",
   "version": "3.11.0rc1"
  }
 },
 "nbformat": 4,
 "nbformat_minor": 4
}
